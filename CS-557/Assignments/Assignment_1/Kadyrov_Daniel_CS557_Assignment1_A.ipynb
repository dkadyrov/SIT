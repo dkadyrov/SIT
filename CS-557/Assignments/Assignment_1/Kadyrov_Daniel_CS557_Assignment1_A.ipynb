{
 "metadata": {
  "language_info": {
   "codemirror_mode": {
    "name": "ipython",
    "version": 3
   },
   "file_extension": ".py",
   "mimetype": "text/x-python",
   "name": "python",
   "nbconvert_exporter": "python",
   "pygments_lexer": "ipython3",
   "version": "3.8.4-final"
  },
  "orig_nbformat": 2,
  "kernelspec": {
   "name": "python38464bitassignment1pipenv7dc59634f2724d8582745fc1e12ea7ff",
   "display_name": "Python 3.8.4 64-bit ('Assignment_1': pipenv)"
  }
 },
 "nbformat": 4,
 "nbformat_minor": 2,
 "cells": [
  {
   "cell_type": "markdown",
   "metadata": {},
   "source": [
    "Daniel Kadyrov\n",
    "\n",
    "CS 557 - Natural Language Processing\n",
    "\n",
    "September 16th 2020\n",
    "\n",
    "Assignment 1"
   ]
  },
  {
   "cell_type": "markdown",
   "metadata": {},
   "source": [
    "# Your Turn Page 5"
   ]
  },
  {
   "cell_type": "code",
   "execution_count": 1,
   "metadata": {
    "tags": []
   },
   "outputs": [
    {
     "output_type": "stream",
     "name": "stdout",
     "text": "*** Introductory Examples for the NLTK Book ***\nLoading text1, ..., text9 and sent1, ..., sent9\nType the name of the text or sentence to view it.\nType: 'texts()' or 'sents()' to list the materials.\ntext1: Moby Dick by Herman Melville 1851\ntext2: Sense and Sensibility by Jane Austen 1811\ntext3: The Book of Genesis\ntext4: Inaugural Address Corpus\ntext5: Chat Corpus\ntext6: Monty Python and the Holy Grail\ntext7: Wall Street Journal\ntext8: Personals Corpus\ntext9: The Man Who Was Thursday by G . K . Chesterton 1908\n"
    }
   ],
   "source": [
    "from nltk.book import *"
   ]
  },
  {
   "cell_type": "code",
   "execution_count": 3,
   "metadata": {
    "tags": []
   },
   "outputs": [
    {
     "output_type": "stream",
     "name": "stdout",
     "text": "Displaying 25 of 79 matches:\n, however , and , as a mark of his affection for the three girls , he left them\nt . It was very well known that no affection was ever supposed to exist between\nderation of politeness or maternal affection on the side of the former , the tw\nd the suspicion -- the hope of his affection for me may warrant , without impru\nhich forbade the indulgence of his affection . She knew that his mother neither\nrd she gave one with still greater affection . Though her late conversation wit\n can never hope to feel or inspire affection again , and if her home be uncomfo\nm of the sense , elegance , mutual affection , and domestic comfort of the fami\n, and which recommended him to her affection beyond every thing else . His soci\nween the parties might forward the affection of Mr . Willoughby , an equally st\n the most pointed assurance of her affection . Elinor could not be surprised at\nhe natural consequence of a strong affection in a young and ardent mind . This \n opinion . But by an appeal to her affection for her mother , by representing t\n every alteration of a place which affection had established as perfect with hi\ne will always have one claim of my affection , which no other can possibly shar\nf the evening declared at once his affection and happiness . \" Shall we see you\nause he took leave of us with less affection than his usual behaviour has shewn\nness .\" \" I want no proof of their affection ,\" said Elinor ; \" but of their en\nonths , without telling her of his affection ;-- that they should part without \nould be the natural result of your affection for her . She used to be all unres\ndistinguished Elinor by no mark of affection . Marianne saw and listened with i\nth no inclination for expense , no affection for strangers , no profession , an\ntill distinguished her by the same affection which once she had felt no doubt o\nal of her confidence in Edward ' s affection , to the remembrance of every mark\n was made ? Had he never owned his affection to yourself ?\" \" Oh , no ; but if \n"
    }
   ],
   "source": [
    "# Search Sense and Sensibility for the word affection\n",
    "text2.concordance(\"affection\")"
   ]
  },
  {
   "cell_type": "code",
   "execution_count": 4,
   "metadata": {
    "tags": []
   },
   "outputs": [
    {
     "output_type": "stream",
     "name": "stdout",
     "text": "Displaying 25 of 38 matches:\nay when they were created . And Adam lived an hundred and thirty years , and be\nughters : And all the days that Adam lived were nine hundred and thirty yea and\nnd thirty yea and he died . And Seth lived an hundred and five years , and bega\nve years , and begat Enos : And Seth lived after he begat Enos eight hundred an\nwelve years : and he died . And Enos lived ninety years , and begat Cainan : An\n years , and begat Cainan : And Enos lived after he begat Cainan eight hundred \nive years : and he died . And Cainan lived seventy years and begat Mahalaleel :\nrs and begat Mahalaleel : And Cainan lived after he begat Mahalaleel eight hund\nyears : and he died . And Mahalaleel lived sixty and five years , and begat Jar\ns , and begat Jared : And Mahalaleel lived after he begat Jared eight hundred a\nand five yea and he died . And Jared lived an hundred sixty and two years , and\no years , and he begat Eno And Jared lived after he begat Enoch eight hundred y\n and two yea and he died . And Enoch lived sixty and five years , and begat Met\n ; for God took him . And Methuselah lived an hundred eighty and seven years , \n , and begat Lamech . And Methuselah lived after he begat Lamech seven hundred \nnd nine yea and he died . And Lamech lived an hundred eighty and two years , an\nch the LORD hath cursed . And Lamech lived after he begat Noah five hundred nin\nnaan shall be his servant . And Noah lived after the flood three hundred and fi\nxad two years after the flo And Shem lived after he begat Arphaxad five hundred\nat sons and daughters . And Arphaxad lived five and thirty years , and begat Sa\nars , and begat Salah : And Arphaxad lived after he begat Salah four hundred an\nbegat sons and daughters . And Salah lived thirty years , and begat Eber : And \ny years , and begat Eber : And Salah lived after he begat Eber four hundred and\n begat sons and daughters . And Eber lived four and thirty years , and begat Pe\ny years , and begat Peleg : And Eber lived after he begat Peleg four hundred an\n"
    }
   ],
   "source": [
    "# Search the book of Genesis to find out how long some people lived\n",
    "text3.concordance(\"lived\")"
   ]
  },
  {
   "cell_type": "code",
   "execution_count": 5,
   "metadata": {
    "tags": []
   },
   "outputs": [
    {
     "output_type": "stream",
     "name": "stdout",
     "text": "Displaying 25 of 316 matches:\n to the character of an independent nation seems to have been distinguished by\nf Heaven can never be expected on a nation that disregards the eternal rules o\nfirst , the representatives of this nation , then consisting of little more th\n, situation , and relations of this nation and country than any which had ever\n, prosperity , and happiness of the nation I have acquired an habitual attachm\nan be no spectacle presented by any nation more pleasing , more noble , majest\nparty for its own ends , not of the nation for the national good . If that sol\ntures and the people throughout the nation . On this subject it might become m\nif a personal esteem for the French nation , formed in a residence of seven ye\nf our fellow - citizens by whatever nation , and if success can not be obtaine\ny , continue His blessing upon this nation and its Government and give it all \npowers so justly inspire . A rising nation , spread over a wide and fruitful l\ning now decided by the voice of the nation , announced according to the rules \nars witness to the fact that a just nation is trusted on its word when recours\ne union of opinion which gives to a nation the blessing of harmony and the ben\nuil suffrage of a free and virtuous nation , would under any circumstances hav\nd spirit and united councils of the nation will be safeguards to its honor and\niction that the war with a powerful nation , which forms so prominent a featur\nout breaking down the spirit of the nation , destroying all confidence in itse\ned on the military resources of the nation . These resources are amply suffici\nthe war to an honorable issue . Our nation is in number more than half that of\nndividually have been happy and the nation prosperous . Under this Constitutio\nrights , and is able to protect the nation against injustice from foreign powe\n great agricultural interest of the nation prospers under its protection . Loc\nak our Union , and demolish us as a nation . Our distance from Europe and the \nDisplaying 8 of 8 matches:\nmenaces , by fraud or violence , by terror , intrigue , or venality , the Gove\nameless , unreasoning , unjustified terror which paralyzes needed efforts to c\nublic seemed frozen by a fatalistic terror , we proved that this is not true .\n to alter that uncertain balance of terror that stays the hand of mankind ' s \neans freeing all Americans from the terror of runaway living costs . All must \nstill . They fuel the fanaticism of terror . And they torment the lives of mil\nd maintain a strong defense against terror and destruction . Our children will\nk to advance their aims by inducing terror and slaughtering innocents , we say\nDisplaying 25 of 108 matches:\neliance on the protection of Almighty God , I shall forthwith commence the duti\nhumble , acknowledged dependence upon God and His overruling providence . We ha\ngreat office I must humbly invoke the God of our fathers for wisdom and firmnes\nd the same Bible and pray to the same God , and each invokes His aid against th\nhat any men should dare to ask a just God ' s assistance in wringing their brea\noffenses which , in the providence of God , must needs come , but which , havin\nbutes which the believers in a living God always ascribe to Him ? Fondly do we \nwar may speedily pass away . Yet , if God wills that it continue until all the \nr all , with firmness in the right as God gives us to see the right , let us st\nthe prayers of the nation to Almighty God in behalf of this consummation . Fell\nr , they have \" followed the light as God gave them to see the light .\" They ar\ness their fathers and their fathers ' God that the Union was preserved , that s\nthe support and blessings of Almighty God . Fellow citizens , in the presence o\nng the power and goodness of Almighty God , who presides over the destiny of na\nexpect the favor and help of Almighty God -- that He will give to me wisdom , s\n suggestion to enterprise and labor . God has placed upon our head a diadem and\nurn than the pledge I now give before God and these witnesses of unreserved and\nhan human life can escape the laws of God and nature . Manifestly nothing is mo\nand invoking the guidance of Almighty God . Our faith teaches that there is no \nre is no safer reliance than upon the God of our fathers , who has so singularl\ne the direction and favor of Almighty God . I should shrink from the duties thi\n devolve upon it , and in the fear of God will \" take occasion by the hand and \n citizens and the aid of the Almighty God in the discharge of my responsible du\nour heartstrings like some air out of God ' s own presence , where justice and \n forward - looking men , to my side . God helping me , I will not fail them , i\n"
    }
   ],
   "source": [
    "# look at text4, the Inaugural Address Corpus, to see examples of English going back to 1789, and search for words like nation, terror, god to see how these words have been used differently over time\n",
    "text4.concordance(\"nation\")\n",
    "text4.concordance(\"terror\")\n",
    "text4.concordance(\"god\")"
   ]
  },
  {
   "cell_type": "code",
   "execution_count": 6,
   "metadata": {
    "tags": []
   },
   "outputs": [
    {
     "output_type": "stream",
     "name": "stdout",
     "text": "Displaying 25 of 149 matches:\nnow im left with this gay name :P PART hey e\nwhat did you but on e-bay i feel like im in the wrong room yeee haw U30 im con\nike im in the wrong room yeee haw U30 im considering changing my nickname to \"\n the hell outta my freaking PM box .. Im with my fiance !!!!!!!!!!!!!!!! answe\nm impressed . PART hiya room lmao !!! im doin alright thanks omg Finger .. Dee\nth lol JOIN so read it . thanks U7 .. Im happy to have my fiance here !! forwa\ni didnt me phone you . . . sheesh now im that phone perv guy lets hope not U12\nto spain ? i need to go this summer . im a HUGE phone perv ok seriously who wa\nan ... . ACTION video tapes . hey U20 Im blind now . ACTION has left the room \nT u got that right , i dont do shit , im the supervisor Hello U165 . hey U165 \n him in the \" untouchable \" list U115 im good U6 lmao U7 how r u U128 hehe how\ncan I ask where ya all are from ..... im here in kentucky as I said ... too wi\nic but had to resize and stuff U37 no im an equal oppertunity hater LOL Hi , U\nhe cover weeeeeeeee thanks U19 ! PART im out in cal now U3 looking at some new\n :) hi U58 lol wb U29 hi U29 U13 .... im down to time now PART Hello U24 , wel\n, I 'd never kick you outta my box hi im good thanks U16 yerself ?? PART inter\nke wth . . who are you even ty U34 yw Im glad he 's back . awwww U16 i like ps\n ha U23 !!! wow ... are you the U39 ? Im talkin about all yer typin . . It 's \n... you ??? Apparently , I 'm not U41 im good U23 dear . How are you U23 ~wink\n~ U35 ... I love that 5 am phone call im good ... me and eric r back together \n , I am happy . You know i LuverZ YOU im the same busy busy oh ok then U1 nm l\n))) . ACTION stretches . ty U19 Ugh , Im so sore ! Repeatedly , with a big sti\n'm a size queen U41 Why U45 ? naw U23 im cheating on you with Jayse hes hawt t\noeer is sum1 gonna ghet fuked up ? :) im always hungry yeah U45 .. i believe i\nwithout first asking permission . U35 im sorry U35 i tried to refrain me too U\nDisplaying 21 of 21 matches:\nk up PART no i dont want daughters !! ur annoying . ACTION Now Playing - Cradl\nooo U92 !!!!!! . ACTION U1370 watches ur nad with a stick . ca u U23 ewwww lol\ner lip . Meep . ACTION is resisting . ur female right lol U115 beeeeehave Reme\n geeshh ... two kids fighting ! whats ur major i probably sucks in summer too \nII Men scorpions rock ... lol what is ur job me too U11 hehe went to manhattan\ne no one i like to say if u have done ur time then that is that U42 Ok U37 , i\nhat a ride JOIN ty ty cheers babes .. ur the first to follow up with the pseud\n charger \\ty LoL yeah ;-) well i hope ur doing ok .. i 'm dojn fine babe . . g\n gonna rock up soojn and rob u of all ur ' candy ' :) as long as you are happy\ngenital warts ? LoL moped U28 ?.. ohh ur a real man i had a moped once yup heh\nb-day is in 5 days =( PART LOL U35 no ur nawt yup your gay lmao U37 dang come \n people talk to me anymore oh because ur gay . PART PART . ACTION = U58 . Man \n om hi U73 heya U7 ! h shit i get all ur money now fawker ok girl lol JOIN ed \nhat tired huh U66 ? lol U75 ... bring ur pillow get comfy U70 yep , off to bed\ntalked to hi sean . ACTION whispers : ur a douche . who PART . ACTION whispers\new england usa ? U7 .. it adds wax to ur clothes .. u think cottons breathe ?.\nver knew what flavor to get specially ur towels lol U31 < whistles > U34 U39 I\ncks out U7 s pic JOIN PART U41 Hi U41 ur gettin pretty savvy there U39 ahhh ..\nom ? brb U30 a week .. heck a day and ur problem there , U30 ??? Hi U34 hartfo\n JOIN U57 Whats really good room JOIN ur telllin me hey any uk girls her ? JOI\nJOIN PART JOIN JOIN yea guitar rocker ur kool u lil guitar rocker PART whats e\nDisplaying 25 of 822 matches:\nast PART 24 / m boo . 26 / m and sexy lol U115 boo . JOIN PART he drew a girl w\nope he didnt draw a penis PART ewwwww lol & a head between her legs JOIN JOIN s\na bowl i got a blunt an a bong ...... lol JOIN well , glad it worked out my cha\ne \" PART Hi U121 in ny . ACTION would lol @ U121 . . . but appearently she does\n30 make sure u buy a nice ring for U6 lol U7 Hi U115 . ACTION isnt falling for \n didnt ya hear !!!! PART JOIN geeshhh lol U6 PART hes deaf ppl here dont get it\nes nobody here i wanna misbeahve with lol JOIN so read it . thanks U7 .. Im hap\nies want to chat can i talk to him !! lol U121 !!! forwards too lol JOIN ALL PE\nk to him !! lol U121 !!! forwards too lol JOIN ALL PErvs ... redirect to U121 '\n loves ME the most i love myself JOIN lol U44 how do u know that what ? jerkett\nng wrong ... i can see it in his eyes lol U20 = fiance Jerketts lmao wtf yah I \ncooler by the minute what 'd I miss ? lol noo there too much work ! why not ?? \n that mean I want you ? U6 hello room lol U83 and this .. has been the grammar \n the rule he 's in PM land now though lol ah ok i wont bug em then someone wann\nflight to hell :) lmao bbl maybe PART LOL lol U7 it was me , U83 hahah U83 ! 80\nht to hell :) lmao bbl maybe PART LOL lol U7 it was me , U83 hahah U83 ! 808265\n082653953 K-Fed got his ass kicked .. Lol . ACTION laughs . i got a first class\n . i got a first class ticket to hell lol U7 JOIN any texas girls in here ? any\n . whats up U155 i was only kidding . lol he 's a douchebag . Poor U121 i 'm bo\n ??? sits with U30 Cum to my shower . lol U121 . ACTION U1370 watches his nads \n ur nad with a stick . ca u U23 ewwww lol *sniffs* ewwwwww PART U115 ! owww spl\nACTION is resisting . ur female right lol U115 beeeeehave Remember the LAst tim\npm's me . charge that is 1.99 / min . lol @ innocent hahah lol .... yeah LOLOLO\n is 1.99 / min . lol @ innocent hahah lol .... yeah LOLOLOLLL U12 thats not nic\ns . lmao no U115 Check my record . :) Lol lick em U7 U23 how old r u lol Way to\n"
    }
   ],
   "source": [
    "# text5, the NPS Chat Corpus: search this for unconventional words like im, ur, lol. (Note that this corpus is uncensored!)\n",
    "text5.concordance(\"im\")\n",
    "text5.concordance(\"ur\")\n",
    "text5.concordance(\"lol\")"
   ]
  },
  {
   "cell_type": "markdown",
   "metadata": {},
   "source": [
    "# Your Turn Page 8"
   ]
  },
  {
   "cell_type": "code",
   "execution_count": 7,
   "metadata": {},
   "outputs": [
    {
     "output_type": "execute_result",
     "data": {
      "text/plain": "704"
     },
     "metadata": {},
     "execution_count": 7
    }
   ],
   "source": [
    "# How many times does the word lol appear in text5? \n",
    "\n",
    "text5.count(\"lol\")"
   ]
  },
  {
   "cell_type": "code",
   "execution_count": 9,
   "metadata": {},
   "outputs": [
    {
     "output_type": "execute_result",
     "data": {
      "text/plain": "1.5640968673628082"
     },
     "metadata": {},
     "execution_count": 9
    }
   ],
   "source": [
    "# How much is this as a percentage of the total number of words in this text?\n",
    "\n",
    "100 * text5.count('lol') / len(text5)"
   ]
  },
  {
   "cell_type": "markdown",
   "metadata": {},
   "source": [
    "# Your Turn Page 11"
   ]
  },
  {
   "cell_type": "code",
   "execution_count": 11,
   "metadata": {},
   "outputs": [
    {
     "output_type": "execute_result",
     "data": {
      "text/plain": "['Daniel', 'Institute', 'Kadyrov', 'Stevens', 'Technology']"
     },
     "metadata": {},
     "execution_count": 11
    }
   ],
   "source": [
    "# Make up a few sentences of your own, by typing a name, equals sign, and a list of words, like this: ex1 = ['Monty', 'Python', 'and', 'the', 'Holy', 'Grail']. Repeat some of the other Python op- erations we saw earlier in Section 1.1, e.g., sorted(ex1), len(set(ex1)), ex1.count('the').\n",
    "\n",
    "lst = [\"Daniel\", \"Kadyrov\", \"Stevens\", \"Institute\", \"Technology\"]\n",
    "sorted(lst)\n",
    "\n"
   ]
  },
  {
   "cell_type": "code",
   "execution_count": 13,
   "metadata": {},
   "outputs": [
    {
     "output_type": "execute_result",
     "data": {
      "text/plain": "5"
     },
     "metadata": {},
     "execution_count": 13
    }
   ],
   "source": [
    "len(set(lst))\n"
   ]
  },
  {
   "cell_type": "code",
   "execution_count": 14,
   "metadata": {},
   "outputs": [
    {
     "output_type": "execute_result",
     "data": {
      "text/plain": "1"
     },
     "metadata": {},
     "execution_count": 14
    }
   ],
   "source": [
    "lst.count(\"Daniel\")"
   ]
  },
  {
   "cell_type": "code",
   "execution_count": 15,
   "metadata": {},
   "outputs": [
    {
     "output_type": "execute_result",
     "data": {
      "text/plain": "1.0"
     },
     "metadata": {},
     "execution_count": 15
    }
   ],
   "source": [
    "def lexical_diversity(text):\n",
    "    return len(text) / len(set(text))\n",
    "\n",
    "lexical_diversity(lst)"
   ]
  },
  {
   "cell_type": "markdown",
   "metadata": {},
   "source": [
    "# Your Turn Page 14"
   ]
  },
  {
   "cell_type": "code",
   "execution_count": 21,
   "metadata": {},
   "outputs": [
    {
     "output_type": "execute_result",
     "data": {
      "text/plain": "'a lazy dogThe quick b'"
     },
     "metadata": {},
     "execution_count": 21
    }
   ],
   "source": [
    "# Take a few minutes to define a sentence of your own and modify individual words and groups of words (slices) using the same methods used earlier. Check your understanding by trying the exercises on lists at the end of this chapter.\n",
    "\n",
    "line = \"The quick brown fox jumps over a lazy dog\"\n",
    "line[-10:] + line[:11]\n"
   ]
  },
  {
   "cell_type": "code",
   "execution_count": 26,
   "metadata": {},
   "outputs": [
    {
     "output_type": "execute_result",
     "data": {
      "text/plain": "'The lazy fox dog'"
     },
     "metadata": {},
     "execution_count": 26
    }
   ],
   "source": [
    "list = line.split(\" \")\n",
    "list[0] + \" \" + list[-2] + \" \" + list[3] + \" \" + list[-1]"
   ]
  },
  {
   "cell_type": "markdown",
   "metadata": {},
   "source": [
    "# Your Turn Page 19"
   ]
  },
  {
   "cell_type": "code",
   "execution_count": null,
   "metadata": {},
   "outputs": [],
   "source": [
    "#  Try out the previous statements in the Python interpreter, and experiment with changing the text and changing the length condition. Does it make an difference to your results if you change the variable names, e.g., using [word for word in vocab if ...]?"
   ]
  },
  {
   "cell_type": "code",
   "execution_count": 29,
   "metadata": {},
   "outputs": [
    {
     "output_type": "execute_result",
     "data": {
      "text/plain": "['companionableness',\n 'disinterestedness',\n 'disqualifications',\n 'incomprehensible']"
     },
     "metadata": {},
     "execution_count": 29
    }
   ],
   "source": [
    "V = set(text2)\n",
    "long_words = [w for w in V if len(w) > 15]\n",
    "sorted(long_words)"
   ]
  },
  {
   "cell_type": "code",
   "execution_count": 33,
   "metadata": {},
   "outputs": [
    {
     "output_type": "execute_result",
     "data": {
      "text/plain": "['companionableness',\n 'disinterestedness',\n 'disqualifications',\n 'incomprehensible']"
     },
     "metadata": {},
     "execution_count": 33
    }
   ],
   "source": [
    "vocab = set(text2)\n",
    "long_words = [word for word in vocab if len(word) > 15]\n",
    "sorted(long_words)"
   ]
  },
  {
   "cell_type": "markdown",
   "metadata": {},
   "source": [
    "No. Changing the variable names does not make a difference."
   ]
  }
 ]
}