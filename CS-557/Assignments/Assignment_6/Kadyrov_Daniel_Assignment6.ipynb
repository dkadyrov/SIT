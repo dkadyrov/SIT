{
 "metadata": {
  "language_info": {
   "codemirror_mode": {
    "name": "ipython",
    "version": 3
   },
   "file_extension": ".py",
   "mimetype": "text/x-python",
   "name": "python",
   "nbconvert_exporter": "python",
   "pygments_lexer": "ipython3",
   "version": "3.8.5-final"
  },
  "orig_nbformat": 2,
  "kernelspec": {
   "name": "Python 3.8.5 64-bit",
   "display_name": "Python 3.8.5 64-bit",
   "metadata": {
    "interpreter": {
     "hash": "aee8b7b246df8f9039afb4144a1f6fd8d2ca17a180786b69acc140d282b71a49"
    }
   }
  }
 },
 "nbformat": 4,
 "nbformat_minor": 2,
 "cells": [
  {
   "source": [
    "Daniel Kadyrov\n",
    "\n",
    "Stevens ID: 10455680\n",
    "\n",
    "CS557 - Natural Language Processing\n",
    "\n",
    "Group 32 - Daniel Kadyrov"
   ],
   "cell_type": "markdown",
   "metadata": {}
  },
  {
   "source": [
    "# Part 1 \n",
    "\n",
    "Show your responses to the Your Turn practice of BKL Ch5 on pages 180. Try a variant of this exercise with the use of the two words “in” and “on”, as in “The book is not on the table, it is in my backpack”. Also tag the following sentence “Book the cooks who cook the books.” (a tagger based on the WSJ Corpus might be appropriate)."
   ],
   "cell_type": "markdown",
   "metadata": {}
  },
  {
   "cell_type": "code",
   "execution_count": 14,
   "metadata": {},
   "outputs": [
    {
     "output_type": "execute_result",
     "data": {
      "text/plain": "[('I', 'PRP'),\n ('like', 'VBP'),\n ('to', 'TO'),\n ('swim', 'VB'),\n ('in', 'IN'),\n ('the', 'DT'),\n ('swimming', 'NN'),\n ('pool', 'NN')]"
     },
     "metadata": {},
     "execution_count": 14
    }
   ],
   "source": [
    "import nltk \n",
    "\n",
    "text = \"I like to swim in the swimming pool\"\n",
    "text = nltk.word_tokenize(text)\n",
    "nltk.pos_tag(text)"
   ]
  },
  {
   "cell_type": "code",
   "execution_count": 15,
   "metadata": {},
   "outputs": [
    {
     "output_type": "execute_result",
     "data": {
      "text/plain": "[('The', 'DT'),\n ('book', 'NN'),\n ('is', 'VBZ'),\n ('not', 'RB'),\n ('on', 'IN'),\n ('the', 'DT'),\n ('table', 'NN'),\n (',', ','),\n ('it', 'PRP'),\n ('is', 'VBZ'),\n ('in', 'IN'),\n ('my', 'PRP$'),\n ('backpack', 'NN')]"
     },
     "metadata": {},
     "execution_count": 15
    }
   ],
   "source": [
    "text = \"The book is not on the table, it is in my backpack\"\n",
    "text = nltk.word_tokenize(text)\n",
    "nltk.pos_tag(text)"
   ]
  },
  {
   "cell_type": "code",
   "execution_count": 16,
   "metadata": {},
   "outputs": [
    {
     "output_type": "execute_result",
     "data": {
      "text/plain": "[('Book', 'IN'),\n ('the', 'DT'),\n ('cooks', 'NNS'),\n ('who', 'WP'),\n ('cook', 'VBP'),\n ('the', 'DT'),\n ('books', 'NNS')]"
     },
     "metadata": {},
     "execution_count": 16
    }
   ],
   "source": [
    "text = \"Book the cooks who cook the books\"\n",
    "text = nltk.word_tokenize(text)\n",
    "nltk.pos_tag(text)"
   ]
  },
  {
   "source": [
    "## Part 2\n",
    "\n",
    "Respond to BKL Exercise 5.1 on p215. Tag the following sentence “Book the cooks who cook the books.” (a tagger based on the WSJ Corpus might be appropriate) and several other sentences you can think of with ambiguous words, as suggested by this exercise.\n",
    "\n",
    "### 5.1\n",
    "\n",
    "Search the Web for “spoof newspaper headlines,” to find such gems as: British Left Waffles on Falkland Islands, and Juvenile Court to Try Shooting Defendant. Manually tag these headlines to see whether knowledge of the part-of-speech tags removes the ambiguity."
   ],
   "cell_type": "markdown",
   "metadata": {}
  },
  {
   "source": [],
   "cell_type": "markdown",
   "metadata": {}
  },
  {
   "cell_type": "code",
   "execution_count": 7,
   "metadata": {},
   "outputs": [
    {
     "output_type": "execute_result",
     "data": {
      "text/plain": "[('Juvenile', 'NNP'),\n ('Court', 'NNP'),\n ('to', 'TO'),\n ('Try', 'VB'),\n ('Shooting', 'NNP'),\n ('Defendant', 'NNP')]"
     },
     "metadata": {},
     "execution_count": 7
    }
   ],
   "source": [
    "headline = \"Juvenile Court to Try Shooting Defendant\"\n",
    "headline = nltk.word_tokenize(headline)\n",
    "nltk.pos_tag(headline)"
   ]
  },
  {
   "cell_type": "code",
   "execution_count": 8,
   "metadata": {},
   "outputs": [
    {
     "output_type": "execute_result",
     "data": {
      "text/plain": "[('Book', 'IN'),\n ('the', 'DT'),\n ('cooks', 'NNS'),\n ('who', 'WP'),\n ('cook', 'VBP'),\n ('the', 'DT'),\n ('books', 'NNS')]"
     },
     "metadata": {},
     "execution_count": 8
    }
   ],
   "source": [
    "text = \"Book the cooks who cook the books\"\n",
    "text = nltk.word_tokenize(text)\n",
    "nltk.pos_tag(text)"
   ]
  },
  {
   "cell_type": "code",
   "execution_count": 9,
   "metadata": {},
   "outputs": [
    {
     "output_type": "execute_result",
     "data": {
      "text/plain": "[('Panda', 'NNP'),\n ('eats', 'VBZ'),\n ('shoots', 'NNS'),\n (',', ','),\n ('and', 'CC'),\n ('leaves', 'NNS')]"
     },
     "metadata": {},
     "execution_count": 9
    }
   ],
   "source": [
    "text = \"Panda eats shoots, and leaves\"\n",
    "text = nltk.word_tokenize(text)\n",
    "nltk.pos_tag(text)"
   ]
  },
  {
   "cell_type": "code",
   "execution_count": 10,
   "metadata": {},
   "outputs": [
    {
     "output_type": "execute_result",
     "data": {
      "text/plain": "[('Panda', 'NNP'),\n ('eats', 'VBZ'),\n ('shoots', 'NNS'),\n ('and', 'CC'),\n ('leaves', 'NNS')]"
     },
     "metadata": {},
     "execution_count": 10
    }
   ],
   "source": [
    "text = \"Panda eats shoots and leaves\"\n",
    "text = nltk.word_tokenize(text)\n",
    "nltk.pos_tag(text)"
   ]
  },
  {
   "cell_type": "code",
   "execution_count": 12,
   "metadata": {},
   "outputs": [
    {
     "output_type": "execute_result",
     "data": {
      "text/plain": "[('Include', 'NNP'),\n ('your', 'PRP$'),\n ('children', 'NNS'),\n ('when', 'WRB'),\n ('baking', 'VBG'),\n ('cookies', 'NNS')]"
     },
     "metadata": {},
     "execution_count": 12
    }
   ],
   "source": [
    "text = \"Include your children when baking cookies\"\n",
    "text = nltk.word_tokenize(text)\n",
    "nltk.pos_tag(text)"
   ]
  },
  {
   "source": [
    "# Part 3 \n",
    "\n",
    "Respond to Exercise 12.10 from J&M 2rd Ch12 for at least one Wh- terminal. The lexicon and grammar in Figures 10.2 and 10.3 should be enough. If not indicate any other terminals and rules necessary.  Obviously the Wh- you chose needs to be a terminal. You are welcome to search the WWW for help here; be sure to show references to the sites you use."
   ],
   "cell_type": "markdown",
   "metadata": {}
  },
  {
   "source": [
    "## Exercise 12.10\n",
    "\n",
    "Page 397 discussed the need for a Wh-NP constituent. The simplest Wh-NP is one of the Wh-pronouns (who, whom, whose, which). The Wh-words what and which can be determiners: which four will you have?, what credit do you have with the Duke? Write rules for the different types of Wh-NPs."
   ],
   "cell_type": "markdown",
   "metadata": {}
  },
  {
   "source": [
    "WH-NP -> Wh-Pro\n",
    "\n",
    "WH-NP -> Wh-Det Nominal\n",
    "\n",
    "Wh-Pro -> who, whom, whose, which\n",
    "\n",
    "Wh-Det -> what, which"
   ],
   "cell_type": "markdown",
   "metadata": {}
  },
  {
   "source": [
    "# Part 4 \n",
    "\n",
    "Chapter 10 of J&M 3rd and Chapter 5 of BKL demonstrate several taggers. Make a list of them and any others you can find with a brief statement as to what they do, what is distinctive about them, and what is like the other taggers in the chapter. You can show them with a table of at least 4 columns: ID, Description, Distinctive Feature(s), and “Similar To”. The Description should include words used in both J&M 2nd and 3rd and BKL, such as “bidirectional MEMM-style”, “regular expression tagger”, “lookup tagger”, etc. to distinguish the taggers."
   ],
   "cell_type": "markdown",
   "metadata": {}
  },
  {
   "source": [
    "|  | Processing Time | Processing Time |\n",
    "|--------------------|-----------------|-----------------|\n",
    "| 5                  |                 |                 |\n",
    "| 10                 |                 |                 |\n",
    "| 20                 |                 |                 |"
   ],
   "cell_type": "code",
   "metadata": {},
   "execution_count": null,
   "outputs": []
  }
 ]
}