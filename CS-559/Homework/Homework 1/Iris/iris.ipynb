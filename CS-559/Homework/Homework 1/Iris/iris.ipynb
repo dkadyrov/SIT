{
 "nbformat": 4,
 "nbformat_minor": 2,
 "metadata": {
  "language_info": {
   "name": "python",
   "codemirror_mode": {
    "name": "ipython",
    "version": 3
   },
   "version": "3.8.1-final"
  },
  "orig_nbformat": 2,
  "file_extension": ".py",
  "mimetype": "text/x-python",
  "name": "python",
  "npconvert_exporter": "python",
  "pygments_lexer": "ipython3",
  "version": 3,
  "kernelspec": {
   "name": "python38164bit60a7a789b7b2410497111250fce07155",
   "display_name": "Python 3.8.1 64-bit"
  }
 },
 "cells": [
  {
   "cell_type": "code",
   "execution_count": 3,
   "metadata": {},
   "outputs": [],
   "source": [
    "import pandas as pd\n",
    "from sklearn.preprocessing import LabelEncoder\n",
    "\n",
    "columns = [\"sepal length in cm\", \"sepal width in cm\",\n",
    "           \"petal length in cm\", \"petal width in cm\", \"class\"]\n",
    "\n",
    "data = pd.read_csv(\"iris.data\", header=None)\n",
    "\n",
    "data.columns = columns\n",
    "\n",
    "X = data[[columns[0], columns[1], columns[2], columns[3]]].values\n",
    "y = data[\"class\"].values\n",
    "\n",
    "enc = LabelEncoder()\n",
    "label_encoder = enc.fit(y)\n",
    "y = label_encoder.transform(y) + 1\n",
    "label_dict = {1:\"Setosa\", 2:\"Versicolor\", 3:\"Virginica\"}"
   ]
  },
  {
   "cell_type": "code",
   "execution_count": 9,
   "metadata": {},
   "outputs": [
    {
     "name": "stdout",
     "output_type": "stream",
     "text": "[array([5.006, 3.418, 1.464, 0.244]), array([5.936, 2.77 , 4.26 , 1.326]), array([6.588, 2.974, 5.552, 2.026])]\n"
    }
   ],
   "source": [
    "import numpy as np\n",
    "\n",
    "# Compute d-dimensional mean vectors\n",
    "vectors = []\n",
    "for cls in range(1,4): \n",
    "    vectors.append(np.mean(X[y==cls], axis=0))"
   ]
  },
  {
   "cell_type": "code",
   "execution_count": 12,
   "metadata": {},
   "outputs": [
    {
     "name": "stdout",
     "output_type": "stream",
     "text": "[[38.9562 13.683  24.614   5.6556]\n [13.683  17.035   8.12    4.9132]\n [24.614   8.12   27.22    6.2536]\n [ 5.6556  4.9132  6.2536  6.1756]]\n"
    }
   ],
   "source": [
    "# Compute Scatter Matrices\n",
    "\n",
    "sw = np.zeros((4,4))\n",
    "for cls, mv in zip(range(1,4), vectors):\n",
    "    cls_sc = np.zeros((4,4))\n",
    "    for row in X[y==cls]:\n",
    "        row, mv = row.reshape(4,1), mv.reshape(4,1)\n",
    "        cls_sc += (row-mv).dot((row-mv).T)\n",
    "    sw += cls_sc\n",
    "\n",
    "print(sw)"
   ]
  },
  {
   "cell_type": "code",
   "execution_count": 10,
   "metadata": {},
   "outputs": [
    {
     "name": "stdout",
     "output_type": "stream",
     "text": "[[ 63.21213333 -19.534      165.16466667  71.36306667]\n [-19.534       10.9776     -56.0552     -22.4924    ]\n [165.16466667 -56.0552     436.64373333 186.90813333]\n [ 71.36306667 -22.4924     186.90813333  80.60413333]]\n"
    }
   ],
   "source": [
    "# Between Class Scatter Matrix\n",
    "\n",
    "overall_mean = np.mean(X, axis=0)\n",
    "\n",
    "sb = np.zeros((4,4))\n",
    "for i, mean_vec in enumerate(vectors):\n",
    "    n = X[y==i+1,:].shape[0]\n",
    "    mean_vec = mean_vec.reshape(4,1)\n",
    "    overall_mean = overall_mean.reshape(4,1)\n",
    "    sb += n* (mean_vec - overall_mean).dot((mean_vec - overall_mean).T)\n",
    "\n",
    "print(sb)\n"
   ]
  },
  {
   "cell_type": "code",
   "execution_count": null,
   "metadata": {},
   "outputs": [],
   "source": [
    "# Solve for Eigenvalue\n",
    "\n"
   ]
  }
 ]
}