{
 "nbformat": 4,
 "nbformat_minor": 2,
 "metadata": {
  "language_info": {
   "name": "python",
   "codemirror_mode": {
    "name": "ipython",
    "version": 3
   },
   "version": "3.8.1-final"
  },
  "orig_nbformat": 2,
  "file_extension": ".py",
  "mimetype": "text/x-python",
  "name": "python",
  "npconvert_exporter": "python",
  "pygments_lexer": "ipython3",
  "version": 3,
  "kernelspec": {
   "name": "python38164bit60a7a789b7b2410497111250fce07155",
   "display_name": "Python 3.8.1 64-bit"
  }
 },
 "cells": [
  {
   "cell_type": "code",
   "execution_count": null,
   "metadata": {},
   "outputs": [],
   "source": [
    "import matplotlib.pyplot as plt\n",
    "\n",
    "from sklearn import datasets\n",
    "from sklearn.discriminant_analysis import LinearDiscriminantAnalysis as LDA\n",
    "\n",
    "iris = datasets.load_iris()\n",
    "\n",
    "X = iris.data\n",
    "y = iris.target\n",
    "names = iris.target_names\n",
    "\n",
    "lda = LDA(n_components=2)\n",
    "model = lda.fit(X, y).transform(X)\n",
    "\n",
    "plt.figure()\n",
    "for i, name in zip([0, 1, 2], names):\n",
    "    plt.scatter(model[y == i, 0], model[y == i, 1], label=name)\n",
    "plt.legend()\n",
    "plt.title(\"Linear Discrimintant Analysis Iris Data\")\n",
    "plt.xlabel(\"LD1\")\n",
    "plt.ylabel(\"LD2\")\n",
    "# plt.savefig('LDA.png')\n",
    "plt.show()"
   ]
  },
  {
   "cell_type": "code",
   "execution_count": null,
   "metadata": {},
   "outputs": [],
   "source": [
    "import matplotlib.pyplot as plt\n",
    "\n",
    "from sklearn import datasets, metrics\n",
    "from sklearn.neighbors import KNeighborsClassifier\n",
    "from sklearn.model_selection import train_test_split\n",
    "\n",
    "iris = datasets.load_iris()\n",
    "\n",
    "X = iris.data\n",
    "y = iris.target\n",
    "names = iris.target_names\n",
    "\n",
    "X_train, X_test, y_train, y_test = train_test_split(X, y, test_size=0.2)\n",
    "\n",
    "k_range = range(1,51)\n",
    "\n",
    "scores = {}\n",
    "scores_list = []\n",
    "print(\"K Value | Accuracy Score\")\n",
    "for k in k_range:\n",
    "    knn = KNeighborsClassifier(n_neighbors=k)\n",
    "    knn.fit(X_train, y_train)\n",
    "    pred = knn.predict(X_test)\n",
    "    scores[k] = metrics.accuracy_score(y_test, pred)\n",
    "    scores_list.append(scores[k])\n",
    "    print(\"%i | %f\"%(k, scores[k]))\n",
    "\n",
    "plt.figure()\n",
    "plt.plot(k_range, scores_list)\n",
    "plt.title(\"Misclassification Rate\")\n",
    "plt.xlabel(\"KNN K Value\")\n",
    "plt.ylabel(\"Accuracy\")\n",
    "plt.savefig(\"knn.png\")\n",
    "plt.show()"
   ]
  }
 ]
}