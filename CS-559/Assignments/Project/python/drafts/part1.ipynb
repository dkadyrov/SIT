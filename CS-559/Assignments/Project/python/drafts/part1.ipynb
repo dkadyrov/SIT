{
 "nbformat": 4,
 "nbformat_minor": 2,
 "metadata": {
  "language_info": {
   "name": "python",
   "codemirror_mode": {
    "name": "ipython",
    "version": 3
   }
  },
  "orig_nbformat": 2,
  "file_extension": ".py",
  "mimetype": "text/x-python",
  "name": "python",
  "npconvert_exporter": "python",
  "pygments_lexer": "ipython3",
  "version": 3
 },
 "cells": [
  {
   "cell_type": "code",
   "execution_count": null,
   "metadata": {},
   "outputs": [],
   "source": [
    "import pandas as pd\n",
    "import numpy as np \n",
    "\n",
    "df = pd.read_csv('data/novel-corona-virus-2019-dataset/covid_19_data.csv',parse_dates=['Last Update'])\n",
    "df.rename(columns={'ObservationDate':'Date', 'Country/Region':'Country'}, inplace=True)\n",
    "\n",
    "df[\"Eradicated\"] = df[\"Deaths\"] + df[\"Recovered\"]\n",
    "df[\"Active\"] = df[\"Confirmed\"] - df[\"Eradicated\"]"
   ]
  },
  {
   "cell_type": "code",
   "execution_count": null,
   "metadata": {},
   "outputs": [],
   "source": []
  }
 ]
}