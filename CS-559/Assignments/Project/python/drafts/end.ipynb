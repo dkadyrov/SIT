{
 "nbformat": 4,
 "nbformat_minor": 2,
 "metadata": {
  "language_info": {
   "name": "python",
   "codemirror_mode": {
    "name": "ipython",
    "version": 3
   },
   "version": "3.7.6-final"
  },
  "orig_nbformat": 2,
  "file_extension": ".py",
  "mimetype": "text/x-python",
  "name": "python",
  "npconvert_exporter": "python",
  "pygments_lexer": "ipython3",
  "version": 3,
  "kernelspec": {
   "name": "python3",
   "display_name": "Python 3"
  }
 },
 "cells": [
  {
   "cell_type": "code",
   "execution_count": 1,
   "metadata": {},
   "outputs": [],
   "source": [
    "import pandas as pd\n",
    "import numpy as np \n",
    "\n",
    "df = pd.read_csv('data/novel-corona-virus-2019-dataset/covid_19_data.csv',parse_dates=['Last Update'])\n",
    "df.rename(columns={'ObservationDate':'Date', 'Country/Region':'Country'}, inplace=True)\n",
    "\n",
    "df[\"Eradicated\"] = df[\"Deaths\"] + df[\"Recovered\"]\n",
    "df[\"Active\"] = df[\"Confirmed\"] - df[\"Eradicated\"]"
   ]
  },
  {
   "cell_type": "code",
   "execution_count": 44,
   "metadata": {},
   "outputs": [],
   "source": [
    "def growth_rate(data=None):\n",
    "    x = []\n",
    "    x.append(0)\n",
    "    for i in range(data.shape[0]-1):\n",
    "        a = data.iloc[i+1]-data.iloc[i]\n",
    "        x.append(a/data.iloc[i])\n",
    "        \n",
    "    return np.array(x)"
   ]
  },
  {
   "cell_type": "code",
   "execution_count": 45,
   "metadata": {},
   "outputs": [],
   "source": [
    "# df[\"Active\"].head()\n",
    "\n",
    "df[\"Growth Rate\"] = growth_rate(df[\"Active\"])\n",
    "\n",
    "# df.groupby(\"Country\")[['Growth Rate']].sum().sort_values(by=['Growth Rate'], ascending=False).reset_index().tail()\n",
    ""
   ]
  },
  {
   "cell_type": "code",
   "execution_count": 56,
   "metadata": {},
   "outputs": [
    {
     "output_type": "execute_result",
     "data": {
      "text/plain": "          Country  Confirmed    Deaths  Recovered     Active  Eradicated\n0  Mainland China  5321801.0  192276.0  3462768.0  1666757.0   3655044.0\n1           Spain  2746558.0  253417.0   748696.0  1744445.0   1002113.0\n2           Italy  3139708.0  358875.0   515773.0  2265060.0    874648.0\n3         Germany  2117675.0   34001.0   656844.0  1426830.0    690845.0\n4            Iran  1404759.0   88961.0   591248.0   724550.0    680209.0\n5              US  6886003.0  219107.0   353340.0  6313556.0    572447.0\n6          France  1878998.0  167567.0   340945.0  1370486.0    508512.0\n7     South Korea   401301.0    5404.0   148481.0   247416.0    153885.0\n8     Switzerland   470881.0   14447.0   134183.0   322251.0    148630.0\n9              UK  1019040.0  106910.0     6943.0   905187.0    113853.0",
      "text/html": "<div>\n<style scoped>\n    .dataframe tbody tr th:only-of-type {\n        vertical-align: middle;\n    }\n\n    .dataframe tbody tr th {\n        vertical-align: top;\n    }\n\n    .dataframe thead th {\n        text-align: right;\n    }\n</style>\n<table border=\"1\" class=\"dataframe\">\n  <thead>\n    <tr style=\"text-align: right;\">\n      <th></th>\n      <th>Country</th>\n      <th>Confirmed</th>\n      <th>Deaths</th>\n      <th>Recovered</th>\n      <th>Active</th>\n      <th>Eradicated</th>\n    </tr>\n  </thead>\n  <tbody>\n    <tr>\n      <th>0</th>\n      <td>Mainland China</td>\n      <td>5321801.0</td>\n      <td>192276.0</td>\n      <td>3462768.0</td>\n      <td>1666757.0</td>\n      <td>3655044.0</td>\n    </tr>\n    <tr>\n      <th>1</th>\n      <td>Spain</td>\n      <td>2746558.0</td>\n      <td>253417.0</td>\n      <td>748696.0</td>\n      <td>1744445.0</td>\n      <td>1002113.0</td>\n    </tr>\n    <tr>\n      <th>2</th>\n      <td>Italy</td>\n      <td>3139708.0</td>\n      <td>358875.0</td>\n      <td>515773.0</td>\n      <td>2265060.0</td>\n      <td>874648.0</td>\n    </tr>\n    <tr>\n      <th>3</th>\n      <td>Germany</td>\n      <td>2117675.0</td>\n      <td>34001.0</td>\n      <td>656844.0</td>\n      <td>1426830.0</td>\n      <td>690845.0</td>\n    </tr>\n    <tr>\n      <th>4</th>\n      <td>Iran</td>\n      <td>1404759.0</td>\n      <td>88961.0</td>\n      <td>591248.0</td>\n      <td>724550.0</td>\n      <td>680209.0</td>\n    </tr>\n    <tr>\n      <th>5</th>\n      <td>US</td>\n      <td>6886003.0</td>\n      <td>219107.0</td>\n      <td>353340.0</td>\n      <td>6313556.0</td>\n      <td>572447.0</td>\n    </tr>\n    <tr>\n      <th>6</th>\n      <td>France</td>\n      <td>1878998.0</td>\n      <td>167567.0</td>\n      <td>340945.0</td>\n      <td>1370486.0</td>\n      <td>508512.0</td>\n    </tr>\n    <tr>\n      <th>7</th>\n      <td>South Korea</td>\n      <td>401301.0</td>\n      <td>5404.0</td>\n      <td>148481.0</td>\n      <td>247416.0</td>\n      <td>153885.0</td>\n    </tr>\n    <tr>\n      <th>8</th>\n      <td>Switzerland</td>\n      <td>470881.0</td>\n      <td>14447.0</td>\n      <td>134183.0</td>\n      <td>322251.0</td>\n      <td>148630.0</td>\n    </tr>\n    <tr>\n      <th>9</th>\n      <td>UK</td>\n      <td>1019040.0</td>\n      <td>106910.0</td>\n      <td>6943.0</td>\n      <td>905187.0</td>\n      <td>113853.0</td>\n    </tr>\n  </tbody>\n</table>\n</div>"
     },
     "metadata": {},
     "execution_count": 56
    }
   ],
   "source": [
    "eradicated = df.groupby(\"Country\")[['Date', 'Confirmed', 'Deaths', 'Recovered', 'Active', 'Eradicated']].sum().sort_values(by=['Eradicated'], ascending=False).reset_index().head(10)\n",
    "\n",
    "eradicated"
   ]
  },
  {
   "cell_type": "code",
   "execution_count": 47,
   "metadata": {},
   "outputs": [],
   "source": [
    "# for country in recovered[\"Country\"]:\n",
    "eradicators = {}\n",
    "for country in eradicated[\"Country\"]:\n",
    "    eradicators[country] = (df[df['Country'] == country].groupby(\"Date\")[[\"Date\", \"Country\", \"Confirmed\", \"Deaths\", \"Recovered\", \"Eradicated\", \"Active\", \"Growth Rate\"]].sum().reset_index())\n",
    "\n",
    "#.sort_values(by=[\"Eradicated\"], ascending=False).head()\n",
    "# df.groupby(\"Country\")sum().sort_values(ascending=False).head()\n",
    "\n",
    "# recoverors = df[df['Country'] == '']\n",
    "# china = df[df['Country'] == 'Mainland China'].groupby(\"Date\")[[\"Date\", \"Confirmed\", \"Deaths\", \"Recovered\"]].sum().reset_index()\n",
    "# spain = df[df['Country'] == 'Spain'].groupby(\"Date\")[[\"Confirmed\", \"Deaths\", \"Recovered\"]].sum().reset_index()\n",
    "# germany = df[df['Country'] == 'Germany'].groupby(\"Date\")[[\"Confirmed\", \"Deaths\", \"Recovered\"]].sum().reset_index()"
   ]
  },
  {
   "cell_type": "code",
   "execution_count": 48,
   "metadata": {},
   "outputs": [
    {
     "output_type": "display_data",
     "data": {
      "application/vnd.plotly.v1+json": {
       "config": {
        "plotlyServerURL": "https://plot.ly"
       },
       "data": [
        {
         "name": "Mainland China",
         "type": "bar",
         "x": [
          "01/22/2020",
          "01/23/2020",
          "01/24/2020",
          "01/25/2020",
          "01/26/2020",
          "01/27/2020",
          "01/28/2020",
          "01/29/2020",
          "01/30/2020",
          "01/31/2020",
          "02/01/2020",
          "02/02/2020",
          "02/03/2020",
          "02/04/2020",
          "02/05/2020",
          "02/06/2020",
          "02/07/2020",
          "02/08/2020",
          "02/09/2020",
          "02/10/2020",
          "02/11/2020",
          "02/12/2020",
          "02/13/2020",
          "02/14/2020",
          "02/15/2020",
          "02/16/2020",
          "02/17/2020",
          "02/18/2020",
          "02/19/2020",
          "02/20/2020",
          "02/21/2020",
          "02/22/2020",
          "02/23/2020",
          "02/24/2020",
          "02/25/2020",
          "02/26/2020",
          "02/27/2020",
          "02/28/2020",
          "02/29/2020",
          "03/01/2020",
          "03/02/2020",
          "03/03/2020",
          "03/04/2020",
          "03/05/2020",
          "03/06/2020",
          "03/07/2020",
          "03/08/2020",
          "03/09/2020",
          "03/10/2020",
          "03/11/2020",
          "03/12/2020",
          "03/13/2020",
          "03/14/2020",
          "03/15/2020",
          "03/16/2020",
          "03/17/2020",
          "03/18/2020",
          "03/19/2020",
          "03/20/2020",
          "03/21/2020",
          "03/22/2020",
          "03/23/2020",
          "03/24/2020",
          "03/25/2020",
          "03/26/2020",
          "03/27/2020",
          "03/28/2020",
          "03/29/2020",
          "03/30/2020",
          "03/31/2020",
          "04/01/2020",
          "04/02/2020",
          "04/03/2020",
          "04/04/2020",
          "04/05/2020",
          "04/06/2020",
          "04/07/2020",
          "04/08/2020",
          "04/09/2020",
          "04/10/2020",
          "04/11/2020",
          "04/12/2020",
          "04/13/2020",
          "04/14/2020"
         ],
         "y": [
          502,
          591,
          854,
          1318,
          1957,
          2723,
          5262,
          5817,
          7818,
          9356,
          11337,
          15783,
          18654,
          22347,
          25732,
          28445,
          31360,
          33379,
          35668,
          37378,
          38581,
          38504,
          52251,
          56799,
          57391,
          57933,
          58046,
          57938,
          56480,
          54761,
          54543,
          51794,
          51325,
          49569,
          47347,
          45297,
          42856,
          39745,
          37137,
          34838,
          32304,
          29802,
          27335,
          25169,
          23643,
          22104,
          20282,
          18880,
          17515,
          16058,
          14800,
          13516,
          12066,
          10723,
          9838,
          8958,
          8016,
          7256,
          6570,
          6010,
          5547,
          5137,
          4740,
          4285,
          3956,
          3459,
          3134,
          2690,
          2390,
          2157,
          2001,
          1863,
          1724,
          1549,
          1348,
          1292,
          1224,
          1178,
          1154,
          1099,
          1099,
          1163,
          1152,
          1155
         ]
        },
        {
         "name": "Spain",
         "type": "bar",
         "x": [
          "02/01/2020",
          "02/02/2020",
          "02/03/2020",
          "02/04/2020",
          "02/05/2020",
          "02/06/2020",
          "02/07/2020",
          "02/08/2020",
          "02/09/2020",
          "02/10/2020",
          "02/11/2020",
          "02/12/2020",
          "02/13/2020",
          "02/14/2020",
          "02/15/2020",
          "02/16/2020",
          "02/17/2020",
          "02/18/2020",
          "02/19/2020",
          "02/20/2020",
          "02/21/2020",
          "02/22/2020",
          "02/23/2020",
          "02/24/2020",
          "02/25/2020",
          "02/26/2020",
          "02/27/2020",
          "02/28/2020",
          "02/29/2020",
          "03/01/2020",
          "03/02/2020",
          "03/03/2020",
          "03/04/2020",
          "03/05/2020",
          "03/06/2020",
          "03/07/2020",
          "03/08/2020",
          "03/09/2020",
          "03/10/2020",
          "03/11/2020",
          "03/12/2020",
          "03/13/2020",
          "03/14/2020",
          "03/15/2020",
          "03/16/2020",
          "03/17/2020",
          "03/18/2020",
          "03/19/2020",
          "03/20/2020",
          "03/21/2020",
          "03/22/2020",
          "03/23/2020",
          "03/24/2020",
          "03/25/2020",
          "03/26/2020",
          "03/27/2020",
          "03/28/2020",
          "03/29/2020",
          "03/30/2020",
          "03/31/2020",
          "04/01/2020",
          "04/02/2020",
          "04/03/2020",
          "04/04/2020",
          "04/05/2020",
          "04/06/2020",
          "04/07/2020",
          "04/08/2020",
          "04/09/2020",
          "04/10/2020",
          "04/11/2020",
          "04/12/2020",
          "04/13/2020",
          "04/14/2020"
         ],
         "y": [
          1,
          1,
          1,
          1,
          1,
          1,
          1,
          1,
          2,
          2,
          2,
          2,
          2,
          2,
          0,
          0,
          0,
          0,
          0,
          0,
          0,
          0,
          0,
          0,
          4,
          11,
          13,
          30,
          43,
          82,
          118,
          162,
          218,
          254,
          393,
          460,
          626,
          1013,
          1628,
          2040,
          2039,
          4906,
          5679,
          6992,
          9070,
          10187,
          12206,
          16026,
          17779,
          21874,
          24722,
          29470,
          33283,
          40501,
          46406,
          51224,
          54968,
          58598,
          63460,
          68200,
          72084,
          74974,
          77488,
          80002,
          80925,
          82897,
          84689,
          85407,
          85610,
          86524,
          87312,
          87231,
          87616,
          86981
         ]
        },
        {
         "name": "Italy",
         "type": "bar",
         "x": [
          "01/31/2020",
          "02/01/2020",
          "02/02/2020",
          "02/03/2020",
          "02/04/2020",
          "02/05/2020",
          "02/06/2020",
          "02/07/2020",
          "02/08/2020",
          "02/09/2020",
          "02/10/2020",
          "02/11/2020",
          "02/12/2020",
          "02/13/2020",
          "02/14/2020",
          "02/15/2020",
          "02/16/2020",
          "02/17/2020",
          "02/18/2020",
          "02/19/2020",
          "02/20/2020",
          "02/21/2020",
          "02/22/2020",
          "02/23/2020",
          "02/24/2020",
          "02/25/2020",
          "02/26/2020",
          "02/27/2020",
          "02/28/2020",
          "02/29/2020",
          "03/01/2020",
          "03/02/2020",
          "03/03/2020",
          "03/04/2020",
          "03/05/2020",
          "03/06/2020",
          "03/07/2020",
          "03/08/2020",
          "03/09/2020",
          "03/10/2020",
          "03/11/2020",
          "03/12/2020",
          "03/13/2020",
          "03/14/2020",
          "03/15/2020",
          "03/16/2020",
          "03/17/2020",
          "03/18/2020",
          "03/19/2020",
          "03/20/2020",
          "03/21/2020",
          "03/22/2020",
          "03/23/2020",
          "03/24/2020",
          "03/25/2020",
          "03/26/2020",
          "03/27/2020",
          "03/28/2020",
          "03/29/2020",
          "03/30/2020",
          "03/31/2020",
          "04/01/2020",
          "04/02/2020",
          "04/03/2020",
          "04/04/2020",
          "04/05/2020",
          "04/06/2020",
          "04/07/2020",
          "04/08/2020",
          "04/09/2020",
          "04/10/2020",
          "04/11/2020",
          "04/12/2020",
          "04/13/2020",
          "04/14/2020"
         ],
         "y": [
          2,
          2,
          2,
          2,
          2,
          2,
          2,
          3,
          3,
          3,
          3,
          3,
          3,
          3,
          3,
          3,
          3,
          3,
          3,
          3,
          3,
          19,
          59,
          150,
          221,
          311,
          438,
          593,
          821,
          1053,
          1577,
          1835,
          2263,
          2706,
          3296,
          3916,
          5061,
          6387,
          7985,
          8794,
          10590,
          10590,
          14955,
          17750,
          20603,
          23073,
          26062,
          28710,
          33190,
          38549,
          42681,
          46638,
          50418,
          54030,
          57521,
          62013,
          66414,
          70065,
          73880,
          75528,
          77635,
          80572,
          83049,
          85388,
          88274,
          91246,
          93187,
          94067,
          95262,
          96877,
          98273,
          100269,
          102253,
          103616,
          104291
         ]
        },
        {
         "name": "Germany",
         "type": "bar",
         "x": [
          "01/28/2020",
          "01/29/2020",
          "01/30/2020",
          "01/31/2020",
          "02/01/2020",
          "02/02/2020",
          "02/03/2020",
          "02/04/2020",
          "02/05/2020",
          "02/06/2020",
          "02/07/2020",
          "02/08/2020",
          "02/09/2020",
          "02/10/2020",
          "02/11/2020",
          "02/12/2020",
          "02/13/2020",
          "02/14/2020",
          "02/15/2020",
          "02/16/2020",
          "02/17/2020",
          "02/18/2020",
          "02/19/2020",
          "02/20/2020",
          "02/21/2020",
          "02/22/2020",
          "02/23/2020",
          "02/24/2020",
          "02/25/2020",
          "02/26/2020",
          "02/27/2020",
          "02/28/2020",
          "02/29/2020",
          "03/01/2020",
          "03/02/2020",
          "03/03/2020",
          "03/04/2020",
          "03/05/2020",
          "03/06/2020",
          "03/07/2020",
          "03/08/2020",
          "03/09/2020",
          "03/10/2020",
          "03/11/2020",
          "03/12/2020",
          "03/13/2020",
          "03/14/2020",
          "03/15/2020",
          "03/16/2020",
          "03/17/2020",
          "03/18/2020",
          "03/19/2020",
          "03/20/2020",
          "03/21/2020",
          "03/22/2020",
          "03/23/2020",
          "03/24/2020",
          "03/25/2020",
          "03/26/2020",
          "03/27/2020",
          "03/28/2020",
          "03/29/2020",
          "03/30/2020",
          "03/31/2020",
          "04/01/2020",
          "04/02/2020",
          "04/03/2020",
          "04/04/2020",
          "04/05/2020",
          "04/06/2020",
          "04/07/2020",
          "04/08/2020",
          "04/09/2020",
          "04/10/2020",
          "04/11/2020",
          "04/12/2020",
          "04/13/2020",
          "04/14/2020"
         ],
         "y": [
          4,
          4,
          4,
          5,
          8,
          10,
          12,
          12,
          12,
          12,
          13,
          13,
          14,
          14,
          16,
          16,
          15,
          15,
          15,
          15,
          15,
          4,
          4,
          4,
          2,
          2,
          2,
          2,
          3,
          12,
          30,
          32,
          63,
          114,
          143,
          180,
          246,
          466,
          653,
          781,
          1022,
          1156,
          1437,
          1880,
          2050,
          3622,
          4530,
          5738,
          7188,
          9166,
          12194,
          15163,
          19601,
          21896,
          24513,
          28480,
          29586,
          33570,
          37998,
          43871,
          48781,
          52351,
          52740,
          54933,
          58252,
          61247,
          65309,
          68248,
          69839,
          72864,
          69566,
          64647,
          63167,
          65491,
          64772,
          64532,
          62578,
          59865
         ]
        },
        {
         "name": "Iran",
         "type": "bar",
         "x": [
          "02/19/2020",
          "02/20/2020",
          "02/21/2020",
          "02/22/2020",
          "02/23/2020",
          "02/24/2020",
          "02/25/2020",
          "02/26/2020",
          "02/27/2020",
          "02/28/2020",
          "02/29/2020",
          "03/01/2020",
          "03/02/2020",
          "03/03/2020",
          "03/04/2020",
          "03/05/2020",
          "03/06/2020",
          "03/07/2020",
          "03/08/2020",
          "03/09/2020",
          "03/10/2020",
          "03/11/2020",
          "03/12/2020",
          "03/13/2020",
          "03/14/2020",
          "03/15/2020",
          "03/16/2020",
          "03/17/2020",
          "03/18/2020",
          "03/19/2020",
          "03/20/2020",
          "03/21/2020",
          "03/22/2020",
          "03/23/2020",
          "03/24/2020",
          "03/25/2020",
          "03/26/2020",
          "03/27/2020",
          "03/28/2020",
          "03/29/2020",
          "03/30/2020",
          "03/31/2020",
          "04/01/2020",
          "04/02/2020",
          "04/03/2020",
          "04/04/2020",
          "04/05/2020",
          "04/06/2020",
          "04/07/2020",
          "04/08/2020",
          "04/09/2020",
          "04/10/2020",
          "04/11/2020",
          "04/12/2020",
          "04/13/2020",
          "04/14/2020"
         ],
         "y": [
          0,
          3,
          14,
          23,
          35,
          49,
          79,
          71,
          170,
          281,
          427,
          749,
          1144,
          1968,
          2278,
          2667,
          3710,
          4009,
          4238,
          4530,
          5020,
          5687,
          6687,
          7891,
          9159,
          8624,
          9548,
          9792,
          10837,
          11413,
          11466,
          11419,
          12318,
          12861,
          13964,
          15315,
          16715,
          18821,
          21212,
          23278,
          24827,
          27051,
          29084,
          30597,
          31954,
          32555,
          34887,
          32525,
          31678,
          30781,
          29801,
          28495,
          23725,
          23318,
          22735,
          22065
         ]
        }
       ],
       "layout": {
        "font": {
         "family": "Courier New, monospace"
        },
        "template": {
         "data": {
          "bar": [
           {
            "error_x": {
             "color": "#2a3f5f"
            },
            "error_y": {
             "color": "#2a3f5f"
            },
            "marker": {
             "line": {
              "color": "#E5ECF6",
              "width": 0.5
             }
            },
            "type": "bar"
           }
          ],
          "barpolar": [
           {
            "marker": {
             "line": {
              "color": "#E5ECF6",
              "width": 0.5
             }
            },
            "type": "barpolar"
           }
          ],
          "carpet": [
           {
            "aaxis": {
             "endlinecolor": "#2a3f5f",
             "gridcolor": "white",
             "linecolor": "white",
             "minorgridcolor": "white",
             "startlinecolor": "#2a3f5f"
            },
            "baxis": {
             "endlinecolor": "#2a3f5f",
             "gridcolor": "white",
             "linecolor": "white",
             "minorgridcolor": "white",
             "startlinecolor": "#2a3f5f"
            },
            "type": "carpet"
           }
          ],
          "choropleth": [
           {
            "colorbar": {
             "outlinewidth": 0,
             "ticks": ""
            },
            "type": "choropleth"
           }
          ],
          "contour": [
           {
            "colorbar": {
             "outlinewidth": 0,
             "ticks": ""
            },
            "colorscale": [
             [
              0,
              "#0d0887"
             ],
             [
              0.1111111111111111,
              "#46039f"
             ],
             [
              0.2222222222222222,
              "#7201a8"
             ],
             [
              0.3333333333333333,
              "#9c179e"
             ],
             [
              0.4444444444444444,
              "#bd3786"
             ],
             [
              0.5555555555555556,
              "#d8576b"
             ],
             [
              0.6666666666666666,
              "#ed7953"
             ],
             [
              0.7777777777777778,
              "#fb9f3a"
             ],
             [
              0.8888888888888888,
              "#fdca26"
             ],
             [
              1,
              "#f0f921"
             ]
            ],
            "type": "contour"
           }
          ],
          "contourcarpet": [
           {
            "colorbar": {
             "outlinewidth": 0,
             "ticks": ""
            },
            "type": "contourcarpet"
           }
          ],
          "heatmap": [
           {
            "colorbar": {
             "outlinewidth": 0,
             "ticks": ""
            },
            "colorscale": [
             [
              0,
              "#0d0887"
             ],
             [
              0.1111111111111111,
              "#46039f"
             ],
             [
              0.2222222222222222,
              "#7201a8"
             ],
             [
              0.3333333333333333,
              "#9c179e"
             ],
             [
              0.4444444444444444,
              "#bd3786"
             ],
             [
              0.5555555555555556,
              "#d8576b"
             ],
             [
              0.6666666666666666,
              "#ed7953"
             ],
             [
              0.7777777777777778,
              "#fb9f3a"
             ],
             [
              0.8888888888888888,
              "#fdca26"
             ],
             [
              1,
              "#f0f921"
             ]
            ],
            "type": "heatmap"
           }
          ],
          "heatmapgl": [
           {
            "colorbar": {
             "outlinewidth": 0,
             "ticks": ""
            },
            "colorscale": [
             [
              0,
              "#0d0887"
             ],
             [
              0.1111111111111111,
              "#46039f"
             ],
             [
              0.2222222222222222,
              "#7201a8"
             ],
             [
              0.3333333333333333,
              "#9c179e"
             ],
             [
              0.4444444444444444,
              "#bd3786"
             ],
             [
              0.5555555555555556,
              "#d8576b"
             ],
             [
              0.6666666666666666,
              "#ed7953"
             ],
             [
              0.7777777777777778,
              "#fb9f3a"
             ],
             [
              0.8888888888888888,
              "#fdca26"
             ],
             [
              1,
              "#f0f921"
             ]
            ],
            "type": "heatmapgl"
           }
          ],
          "histogram": [
           {
            "marker": {
             "colorbar": {
              "outlinewidth": 0,
              "ticks": ""
             }
            },
            "type": "histogram"
           }
          ],
          "histogram2d": [
           {
            "colorbar": {
             "outlinewidth": 0,
             "ticks": ""
            },
            "colorscale": [
             [
              0,
              "#0d0887"
             ],
             [
              0.1111111111111111,
              "#46039f"
             ],
             [
              0.2222222222222222,
              "#7201a8"
             ],
             [
              0.3333333333333333,
              "#9c179e"
             ],
             [
              0.4444444444444444,
              "#bd3786"
             ],
             [
              0.5555555555555556,
              "#d8576b"
             ],
             [
              0.6666666666666666,
              "#ed7953"
             ],
             [
              0.7777777777777778,
              "#fb9f3a"
             ],
             [
              0.8888888888888888,
              "#fdca26"
             ],
             [
              1,
              "#f0f921"
             ]
            ],
            "type": "histogram2d"
           }
          ],
          "histogram2dcontour": [
           {
            "colorbar": {
             "outlinewidth": 0,
             "ticks": ""
            },
            "colorscale": [
             [
              0,
              "#0d0887"
             ],
             [
              0.1111111111111111,
              "#46039f"
             ],
             [
              0.2222222222222222,
              "#7201a8"
             ],
             [
              0.3333333333333333,
              "#9c179e"
             ],
             [
              0.4444444444444444,
              "#bd3786"
             ],
             [
              0.5555555555555556,
              "#d8576b"
             ],
             [
              0.6666666666666666,
              "#ed7953"
             ],
             [
              0.7777777777777778,
              "#fb9f3a"
             ],
             [
              0.8888888888888888,
              "#fdca26"
             ],
             [
              1,
              "#f0f921"
             ]
            ],
            "type": "histogram2dcontour"
           }
          ],
          "mesh3d": [
           {
            "colorbar": {
             "outlinewidth": 0,
             "ticks": ""
            },
            "type": "mesh3d"
           }
          ],
          "parcoords": [
           {
            "line": {
             "colorbar": {
              "outlinewidth": 0,
              "ticks": ""
             }
            },
            "type": "parcoords"
           }
          ],
          "pie": [
           {
            "automargin": true,
            "type": "pie"
           }
          ],
          "scatter": [
           {
            "marker": {
             "colorbar": {
              "outlinewidth": 0,
              "ticks": ""
             }
            },
            "type": "scatter"
           }
          ],
          "scatter3d": [
           {
            "line": {
             "colorbar": {
              "outlinewidth": 0,
              "ticks": ""
             }
            },
            "marker": {
             "colorbar": {
              "outlinewidth": 0,
              "ticks": ""
             }
            },
            "type": "scatter3d"
           }
          ],
          "scattercarpet": [
           {
            "marker": {
             "colorbar": {
              "outlinewidth": 0,
              "ticks": ""
             }
            },
            "type": "scattercarpet"
           }
          ],
          "scattergeo": [
           {
            "marker": {
             "colorbar": {
              "outlinewidth": 0,
              "ticks": ""
             }
            },
            "type": "scattergeo"
           }
          ],
          "scattergl": [
           {
            "marker": {
             "colorbar": {
              "outlinewidth": 0,
              "ticks": ""
             }
            },
            "type": "scattergl"
           }
          ],
          "scattermapbox": [
           {
            "marker": {
             "colorbar": {
              "outlinewidth": 0,
              "ticks": ""
             }
            },
            "type": "scattermapbox"
           }
          ],
          "scatterpolar": [
           {
            "marker": {
             "colorbar": {
              "outlinewidth": 0,
              "ticks": ""
             }
            },
            "type": "scatterpolar"
           }
          ],
          "scatterpolargl": [
           {
            "marker": {
             "colorbar": {
              "outlinewidth": 0,
              "ticks": ""
             }
            },
            "type": "scatterpolargl"
           }
          ],
          "scatterternary": [
           {
            "marker": {
             "colorbar": {
              "outlinewidth": 0,
              "ticks": ""
             }
            },
            "type": "scatterternary"
           }
          ],
          "surface": [
           {
            "colorbar": {
             "outlinewidth": 0,
             "ticks": ""
            },
            "colorscale": [
             [
              0,
              "#0d0887"
             ],
             [
              0.1111111111111111,
              "#46039f"
             ],
             [
              0.2222222222222222,
              "#7201a8"
             ],
             [
              0.3333333333333333,
              "#9c179e"
             ],
             [
              0.4444444444444444,
              "#bd3786"
             ],
             [
              0.5555555555555556,
              "#d8576b"
             ],
             [
              0.6666666666666666,
              "#ed7953"
             ],
             [
              0.7777777777777778,
              "#fb9f3a"
             ],
             [
              0.8888888888888888,
              "#fdca26"
             ],
             [
              1,
              "#f0f921"
             ]
            ],
            "type": "surface"
           }
          ],
          "table": [
           {
            "cells": {
             "fill": {
              "color": "#EBF0F8"
             },
             "line": {
              "color": "white"
             }
            },
            "header": {
             "fill": {
              "color": "#C8D4E3"
             },
             "line": {
              "color": "white"
             }
            },
            "type": "table"
           }
          ]
         },
         "layout": {
          "annotationdefaults": {
           "arrowcolor": "#2a3f5f",
           "arrowhead": 0,
           "arrowwidth": 1
          },
          "coloraxis": {
           "colorbar": {
            "outlinewidth": 0,
            "ticks": ""
           }
          },
          "colorscale": {
           "diverging": [
            [
             0,
             "#8e0152"
            ],
            [
             0.1,
             "#c51b7d"
            ],
            [
             0.2,
             "#de77ae"
            ],
            [
             0.3,
             "#f1b6da"
            ],
            [
             0.4,
             "#fde0ef"
            ],
            [
             0.5,
             "#f7f7f7"
            ],
            [
             0.6,
             "#e6f5d0"
            ],
            [
             0.7,
             "#b8e186"
            ],
            [
             0.8,
             "#7fbc41"
            ],
            [
             0.9,
             "#4d9221"
            ],
            [
             1,
             "#276419"
            ]
           ],
           "sequential": [
            [
             0,
             "#0d0887"
            ],
            [
             0.1111111111111111,
             "#46039f"
            ],
            [
             0.2222222222222222,
             "#7201a8"
            ],
            [
             0.3333333333333333,
             "#9c179e"
            ],
            [
             0.4444444444444444,
             "#bd3786"
            ],
            [
             0.5555555555555556,
             "#d8576b"
            ],
            [
             0.6666666666666666,
             "#ed7953"
            ],
            [
             0.7777777777777778,
             "#fb9f3a"
            ],
            [
             0.8888888888888888,
             "#fdca26"
            ],
            [
             1,
             "#f0f921"
            ]
           ],
           "sequentialminus": [
            [
             0,
             "#0d0887"
            ],
            [
             0.1111111111111111,
             "#46039f"
            ],
            [
             0.2222222222222222,
             "#7201a8"
            ],
            [
             0.3333333333333333,
             "#9c179e"
            ],
            [
             0.4444444444444444,
             "#bd3786"
            ],
            [
             0.5555555555555556,
             "#d8576b"
            ],
            [
             0.6666666666666666,
             "#ed7953"
            ],
            [
             0.7777777777777778,
             "#fb9f3a"
            ],
            [
             0.8888888888888888,
             "#fdca26"
            ],
            [
             1,
             "#f0f921"
            ]
           ]
          },
          "colorway": [
           "#636efa",
           "#EF553B",
           "#00cc96",
           "#ab63fa",
           "#FFA15A",
           "#19d3f3",
           "#FF6692",
           "#B6E880",
           "#FF97FF",
           "#FECB52"
          ],
          "font": {
           "color": "#2a3f5f"
          },
          "geo": {
           "bgcolor": "white",
           "lakecolor": "white",
           "landcolor": "#E5ECF6",
           "showlakes": true,
           "showland": true,
           "subunitcolor": "white"
          },
          "hoverlabel": {
           "align": "left"
          },
          "hovermode": "closest",
          "mapbox": {
           "style": "light"
          },
          "paper_bgcolor": "white",
          "plot_bgcolor": "#E5ECF6",
          "polar": {
           "angularaxis": {
            "gridcolor": "white",
            "linecolor": "white",
            "ticks": ""
           },
           "bgcolor": "#E5ECF6",
           "radialaxis": {
            "gridcolor": "white",
            "linecolor": "white",
            "ticks": ""
           }
          },
          "scene": {
           "xaxis": {
            "backgroundcolor": "#E5ECF6",
            "gridcolor": "white",
            "gridwidth": 2,
            "linecolor": "white",
            "showbackground": true,
            "ticks": "",
            "zerolinecolor": "white"
           },
           "yaxis": {
            "backgroundcolor": "#E5ECF6",
            "gridcolor": "white",
            "gridwidth": 2,
            "linecolor": "white",
            "showbackground": true,
            "ticks": "",
            "zerolinecolor": "white"
           },
           "zaxis": {
            "backgroundcolor": "#E5ECF6",
            "gridcolor": "white",
            "gridwidth": 2,
            "linecolor": "white",
            "showbackground": true,
            "ticks": "",
            "zerolinecolor": "white"
           }
          },
          "shapedefaults": {
           "line": {
            "color": "#2a3f5f"
           }
          },
          "ternary": {
           "aaxis": {
            "gridcolor": "white",
            "linecolor": "white",
            "ticks": ""
           },
           "baxis": {
            "gridcolor": "white",
            "linecolor": "white",
            "ticks": ""
           },
           "bgcolor": "#E5ECF6",
           "caxis": {
            "gridcolor": "white",
            "linecolor": "white",
            "ticks": ""
           }
          },
          "title": {
           "x": 0.05
          },
          "xaxis": {
           "automargin": true,
           "gridcolor": "white",
           "linecolor": "white",
           "ticks": "",
           "title": {
            "standoff": 15
           },
           "zerolinecolor": "white",
           "zerolinewidth": 2
          },
          "yaxis": {
           "automargin": true,
           "gridcolor": "white",
           "linecolor": "white",
           "ticks": "",
           "title": {
            "standoff": 15
           },
           "zerolinecolor": "white",
           "zerolinewidth": 2
          }
         }
        },
        "title": {
         "text": "Active Cases of COVID19",
         "x": 0.5
        },
        "xaxis": {
         "tickformat": "%b",
         "title": {
          "text": "Date"
         }
        },
        "yaxis": {
         "title": {
          "text": "Number of Active Cases"
         }
        }
       }
      }
     },
     "metadata": {}
    }
   ],
   "source": [
    "import plotly.graph_objects as go\n",
    "\n",
    "fig = go.Figure()\n",
    "\n",
    "for country in eradicators:\n",
    "    fig.add_trace(go.Bar(\n",
    "        x=eradicators[country]['Date'],\n",
    "        y=eradicators[country][\"Confirmed\"],\n",
    "        name=country\n",
    "    ))\n",
    "\n",
    "fig.update_layout(\n",
    "    title=\"Active Cases of COVID19\",\n",
    "    title_x = 0.5,\n",
    "    xaxis_title=\"Date\",\n",
    "    xaxis= {\n",
    "        'tickformat': '%b',\n",
    "        # 'tickvals': pd.date_range('2020-1', '2020-4', freq='MS')\n",
    "    },\n",
    "    yaxis_title=\"Number of Active Cases\",\n",
    "    font={\n",
    "        \"family\":\"Courier New, monospace\",\n",
    "        # size=18,\n",
    "        # color=\"#7f7f7f\"\n",
    "    },\n",
    ")\n",
    "\n",
    "fig.write_image(\"images/active_countries.png\")\n",
    "fig.show()"
   ]
  },
  {
   "cell_type": "code",
   "execution_count": null,
   "metadata": {},
   "outputs": [],
   "source": [
    "import plotly.graph_objects as go\n",
    "\n",
    "fig = go.Figure()\n",
    "fig.add_trace(go.Bar(\n",
    "    x=china['Date'],\n",
    "    y=china[\"Active\"],\n",
    "))\n",
    "\n",
    "fig.update_layout(\n",
    "    title=\"Active Cases in Mainland China\",\n",
    "    title_x = 0.5,\n",
    "    xaxis_title=\"Date\",\n",
    "    xaxis= {\n",
    "        'tickformat': '%b',\n",
    "        # 'tickvals': pd.date_range('2020-1', '2020-4', freq='MS')\n",
    "    },\n",
    "    yaxis_title=\"Number of Active Cases\",\n",
    "    font={\n",
    "        \"family\":\"Courier New, monospace\",\n",
    "        # size=18,\n",
    "        # color=\"#7f7f7f\"\n",
    "    },\n",
    "    # legend={\n",
    "    #     \"x\": 0,\n",
    "    #     \"y\": 1\n",
    "    # },\n",
    ")\n",
    "\n",
    "fig.write_image(\"images/china_active.png\")\n",
    "fig.show()"
   ]
  },
  {
   "cell_type": "code",
   "execution_count": null,
   "metadata": {},
   "outputs": [],
   "source": [
    "from sklearn.model_selection import train_test_split\n",
    "\n",
    "china = eradicators[\"Mainland China\"]\n",
    "china[\"Days\"] = china.index\n",
    "\n",
    "X_train, X_test, y_train, y_test = train_test_split(\n",
    "    china[\"Days\"].values.reshape(-1,1), \n",
    "    china[\"Active\"].values.reshape(-1,1), \n",
    "    test_size=0.30, \n",
    "    random_state=42)"
   ]
  },
  {
   "cell_type": "code",
   "execution_count": null,
   "metadata": {},
   "outputs": [],
   "source": [
    "from sklearn.linear_model import LinearRegression\n",
    "from sklearn.preprocessing import PolynomialFeatures\n",
    "\n",
    "poly_reg = PolynomialFeatures(degree=6)\n",
    "x_poly = poly_reg.fit_transform(X_train)\n",
    "\n",
    "lr = LinearRegression()\n",
    "lr.fit(x_poly, y_train)\n",
    "\n",
    "#To retrieve the intercept:\n",
    "print(lr.intercept_)\n",
    "#For retrieving the slope:\n",
    "print(lr.coef_)\n",
    "\n",
    "y_pred_test = lr.predict(poly_reg.fit_transform(X_test))\n",
    "y_pred = lr.predict(poly_reg.fit_transform(china[\"Days\"].values.reshape(-1,1)))\n",
    ""
   ]
  },
  {
   "cell_type": "code",
   "execution_count": null,
   "metadata": {},
   "outputs": [],
   "source": [
    "# from sklearn.preprocessing import PolynomialFeatures\n",
    "# from sklearn import linear_model\n",
    "\n",
    "# poly = PolynomialFeatures(degree=4)\n",
    "# X = poly.fit_transform(X_train)\n",
    "# X_test = poly.fit_transform(X_test)\n",
    "\n",
    "# clf = linear_model.LinearRegression()\n",
    "# clf.fit(X, y_train)\n",
    "\n",
    "# y_pred = clf.predict(poly.fit_transform(china[\"Days\"]))"
   ]
  },
  {
   "cell_type": "code",
   "execution_count": null,
   "metadata": {},
   "outputs": [],
   "source": [
    "# from sklearn.linear_model import BayesianRidge\n",
    "\n",
    "# br = BayesianRidge(tol=1e-6, fit_intercept=False, compute_score=True)\n",
    "# br.fit(X_train, y_train)\n",
    "\n",
    "# y_pred = br.predict(china[\"Days\"].values.reshape(-1,1))"
   ]
  },
  {
   "cell_type": "code",
   "execution_count": null,
   "metadata": {},
   "outputs": [],
   "source": [
    "# from scipy.optimize import curve_fit"
   ]
  },
  {
   "cell_type": "code",
   "execution_count": null,
   "metadata": {},
   "outputs": [],
   "source": [
    "fig = go.Figure()\n",
    "fig.add_trace(go.Bar(\n",
    "    x=china['Date'],\n",
    "    y=china[\"Active\"],\n",
    "))\n",
    "\n",
    "fig.add_trace(go.Scatter(\n",
    "    x=china['Date'],\n",
    "    y=y_pred.flatten(),\n",
    "    mode=\"markers\"\n",
    "))\n",
    "\n",
    "fig.update_layout(\n",
    "    title=\"Active Cases in Mainland China\",\n",
    "    title_x = 0.5,\n",
    "    xaxis_title=\"Date\",\n",
    "    # xaxis= {\n",
    "    #     'tickformat': '%b',\n",
    "    #     # 'tickvals': pd.date_range('2020-1', '2020-4', freq='MS')\n",
    "    # },\n",
    "    yaxis_title=\"Number of Active Cases\",\n",
    "    font={\n",
    "        \"family\":\"Courier New, monospace\",\n",
    "        # size=18,\n",
    "        # color=\"#7f7f7f\"\n",
    "    },\n",
    "    # legend={\n",
    "    #     \"x\": 0,\n",
    "    #     \"y\": 1\n",
    "    # },\n",
    ")\n",
    "\n",
    "fig.write_image(\"images/china_model.png\")\n",
    "fig.show()"
   ]
  },
  {
   "cell_type": "code",
   "execution_count": null,
   "metadata": {},
   "outputs": [],
   "source": [
    "from scipy.optimize import curve_fit \n",
    "active = df.groupby('Date').sum()['Active'].reset_index()\n",
    "active[\"Days\"] = active.index\n",
    "\n",
    "def fit_funct(x, a):\n",
    "    '''\n",
    "    Compute polynomial P(x) where P is a vector of coefficients, highest\n",
    "    order coefficient at P[0].  Uses Horner's Method.\n",
    "    '''\n",
    "    sum = 10229.28660973\n",
    "    coef = [0.00000000e+00, -5.97847366e+03,  9.70360124e+02, -4.28570157e+01,\n",
    "   8.18184961e-01, -7.23095037e-03,  2.43486762e-05]\n",
    "    for c in range(len(coef)): \n",
    "        sum += coef[c] * x**i\n",
    "\n",
    "\n",
    "param, param_cov = curve_fit(eval_polynomial, active[\"Days\"], y_pred.flatten())\n",
    "\n",
    "active_world = \n",
    "\n",
    "# y_pred = lr.predict(poly_reg.fit_transform(active[\"Days\"].values.reshape(-1,1)))\n",
    "\n",
    "# fig = go.Figure()\n",
    "# fig.add_trace(go.Bar(\n",
    "#     x=active['Date'],\n",
    "#     y=active[\"Active\"]\n",
    "# ))\n",
    "\n",
    "# fig.add_trace(go.Scatter(\n",
    "#     x=active['Date'],\n",
    "#     y=y_pred\n",
    "# ))\n",
    "\n",
    "# fig.update_layout(\n",
    "#     title=\"Active Cases in Mainland China\",\n",
    "#     title_x = 0.5,\n",
    "#     xaxis_title=\"Date\",\n",
    "#     # xaxis= {\n",
    "#     #     'tickformat': '%b',\n",
    "#     #     # 'tickvals': pd.date_range('2020-1', '2020-4', freq='MS')\n",
    "#     # },\n",
    "#     yaxis_title=\"Number of Active Cases\",\n",
    "#     font={\n",
    "#         \"family\":\"Courier New, monospace\",\n",
    "#         # size=18,\n",
    "#         # color=\"#7f7f7f\"\n",
    "#     },\n",
    "#     # legend={\n",
    "#     #     \"x\": 0,\n",
    "#     #     \"y\": 1\n",
    "#     # },\n",
    "# )\n",
    "\n",
    "# fig.write_image(\"images/china_model.png\")\n",
    "# fig.show()"
   ]
  },
  {
   "cell_type": "code",
   "execution_count": null,
   "metadata": {},
   "outputs": [],
   "source": [
    "fig = go.Figure()\n",
    "fig.add_trace(go.Bar(\n",
    "    x=active['Date'],\n",
    "    y=active[\"Active\"]\n",
    "))\n",
    "\n",
    "fig.add_trace(go.Scatter(\n",
    "    x=active['Date'],\n",
    "    y=y_pred\n",
    "))\n",
    "\n",
    "fig.update_layout(\n",
    "    title=\"Active Cases in Mainland China\",\n",
    "    title_x = 0.5,\n",
    "    xaxis_title=\"Date\",\n",
    "    # xaxis= {\n",
    "    #     'tickformat': '%b',\n",
    "    #     # 'tickvals': pd.date_range('2020-1', '2020-4', freq='MS')\n",
    "    # },\n",
    "    yaxis_title=\"Number of Active Cases\",\n",
    "    font={\n",
    "        \"family\":\"Courier New, monospace\",\n",
    "        # size=18,\n",
    "        # color=\"#7f7f7f\"\n",
    "    },\n",
    "    # legend={\n",
    "    #     \"x\": 0,\n",
    "    #     \"y\": 1\n",
    "    # },\n",
    ")\n",
    "\n",
    "fig.write_image(\"images/china_model.png\")\n",
    "fig.show()"
   ]
  },
  {
   "cell_type": "code",
   "execution_count": null,
   "metadata": {},
   "outputs": [],
   "source": []
  }
 ]
}