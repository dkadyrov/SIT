{
 "cells": [
  {
   "cell_type": "markdown",
   "metadata": {},
   "source": [
    "## Decision Tree in Scikit Learn\n",
    "\n"
   ]
  },
  {
   "cell_type": "code",
   "execution_count": 3,
   "metadata": {
    "collapsed": true
   },
   "outputs": [],
   "source": [
    "import numpy as np\n",
    "from sklearn import datasets\n",
    "import  matplotlib.pyplot as plt"
   ]
  },
  {
   "cell_type": "code",
   "execution_count": 4,
   "metadata": {},
   "outputs": [
    {
     "data": {
      "image/png": "[encoded data removed]",
      "text/plain": [
       "<matplotlib.figure.Figure at 0x10fb2a890>"
      ]
     },
     "metadata": {},
     "output_type": "display_data"
    }
   ],
   "source": [
    "\n",
    "import math\n",
    "x = np.linspace(start=.001, stop=.999, num=100)  # math.log won't accept 0 or 1\n",
    "y1 = list(map(lambda i: 2 * i * (1 - i), x))\n",
    "y2 = list(map(lambda t: -t * math.log(t, 2) - (1 - t) * math.log((1 - t), 2), x))\n",
    "\n",
    "plt.plot(x, y1, label='gini')\n",
    "plt.plot(x, y2, label='entropy')\n",
    "plt.legend(loc=1)\n",
    "plt.show()"
   ]
  },
  {
   "cell_type": "code",
   "execution_count": 5,
   "metadata": {
    "collapsed": true
   },
   "outputs": [],
   "source": [
    "from sklearn import tree\n",
    "tree_model = tree.DecisionTreeClassifier()"
   ]
  },
  {
   "cell_type": "markdown",
   "metadata": {},
   "source": [
    "### Arguments:\n",
    "\n",
    "- **criterion**: \"gini\" or \"entropy\", corresponding to the criteria of \"gini impurity\" and \"information gain\". default = 'gini'.\n",
    "\n",
    "- **max_depth**: The maximum depth of the tree. default = None, which means the nodes will be expanded until all leaves are pure or until all leaves contain less than min_samples_split samples.\n",
    "\n",
    "- **min_samples_split**: The minimum number of samples required to split. default = 2.\n",
    "\n",
    "- **min_samples_leaf **: The minimum number of samples required to be at a terminate node. default = 1."
   ]
  },
  {
   "cell_type": "markdown",
   "metadata": {},
   "source": [
    "### Methods:\n",
    "\n",
    "- **fit**: Build a decision tree from the training set (X, y).\n",
    "\n",
    "- **predict**: \tPredict class or regression value for X.\n",
    "\n",
    "- **predict_log_proba**\tPredict class log-probabilities of the input samples X.\n",
    "\n",
    "- **predict_proba**\tPredict class probabilities of the input samples X.\n",
    "\n",
    "- **score**:\tReturn the mean accuracy on the given test data and labels.\n",
    "\n",
    "- **set_params**:\tSet the parameters of this estimator.\n",
    "\n",
    "- **get_params**: Get parameters for this estimator."
   ]
  },
  {
   "cell_type": "markdown",
   "metadata": {},
   "source": [
    "### Attributes:\n",
    "\n",
    "- **tree\\_**: Tree object, the underlying tree object.\n",
    "\n",
    "- **feature\\_importances\\_**: The feature importances. The higher, the more important the feature. Also known as gini importance."
   ]
  },
  {
   "cell_type": "markdown",
   "metadata": {},
   "source": [
    "<p><a name=\"2case1\"></a></p>\n",
    "### Case 1: Iris Data\n",
    "\n",
    "We use all the observations and the last two features, \"petal length\" and \"petal width\", in the iris data to build a decision-tree."
   ]
  },
  {
   "cell_type": "code",
   "execution_count": 7,
   "metadata": {},
   "outputs": [
    {
     "data": {
      "text/plain": [
       "DecisionTreeClassifier(class_weight=None, criterion='gini', max_depth=None,\n",
       "            max_features=None, max_leaf_nodes=None,\n",
       "            min_impurity_split=1e-07, min_samples_leaf=1,\n",
       "            min_samples_split=2, min_weight_fraction_leaf=0.0,\n",
       "            presort=False, random_state=None, splitter='best')"
      ]
     },
     "execution_count": 7,
     "metadata": {},
     "output_type": "execute_result"
    }
   ],
   "source": [
    "from sklearn import datasets\n",
    "iris = datasets.load_iris()\n",
    "tree_model.fit(iris.data[:, 2:4], iris.target)"
   ]
  },
  {
   "cell_type": "code",
   "execution_count": 8,
   "metadata": {},
   "outputs": [
    {
     "data": {
      "text/plain": [
       "0.99333333333333329"
      ]
     },
     "execution_count": 8,
     "metadata": {},
     "output_type": "execute_result"
    }
   ],
   "source": [
    "## We can see that the performance of decision tree is amazingly good!\n",
    "tree_model.score(iris.data[:, 2:4], iris.target)"
   ]
  },
  {
   "cell_type": "code",
   "execution_count": 9,
   "metadata": {},
   "outputs": [
    {
     "name": "stdout",
     "output_type": "stream",
     "text": [
      "[ 0.06492158  0.93507842]\n"
     ]
    }
   ],
   "source": [
    "print(tree_model.    cx )"
   ]
  },
  {
   "cell_type": "code",
   "execution_count": 11,
   "metadata": {
    "collapsed": true
   },
   "outputs": [],
   "source": [
    "def plot_model(model, x, y, label):\n",
    "    '''\n",
    "    model: a fitted model\n",
    "    x, y: two variables, should arrays\n",
    "    label: true label\n",
    "    '''\n",
    "    margin = 0.5\n",
    "    x_min = x.min() - margin\n",
    "    x_max = x.max() + margin\n",
    "    y_min = y.min() - margin\n",
    "    y_max = y.max() + margin\n",
    "    import  matplotlib.pyplot as plt\n",
    "    from matplotlib import colors\n",
    "    col_dict = {\n",
    "        'red': [(0, 1, 1), (1, 0.7, 0.7)],\n",
    "        'green': [(0, 1, 0.5), (1, 0.7, 0.7)],\n",
    "        'blue': [(0, 1, 0.5), (1, 1, 1)]\n",
    "    }\n",
    "    cmap = colors.LinearSegmentedColormap('red_blue_classes', col_dict)\n",
    "    plt.cm.register_cmap(cmap=cmap)\n",
    "    nx, ny = 200, 200\n",
    "    xx, yy = np.meshgrid(\n",
    "        np.linspace(x_min, x_max, nx),\n",
    "        np.linspace(y_min, y_max, ny)\n",
    "    )\n",
    "    Z = model.predict(np.c_[xx.ravel(), yy.ravel()])\n",
    "    Z = Z.reshape(xx.shape)\n",
    "    ## plot colormap\n",
    "    plt.pcolormesh(xx, yy, Z, cmap='red_blue_classes')\n",
    "    ## plot boundaries\n",
    "    plt.contour(xx, yy, Z, [0.5], linewidths=1., colors='k')\n",
    "    plt.contour(xx, yy, Z, [1], linewidths=1., colors='k')\n",
    "    ## plot scatters and true labels\n",
    "    plt.scatter(x, y, c=label, edgecolors='k')\n",
    "    plt.xlim(x_min, x_max)\n",
    "    plt.ylim(y_min, y_max)\n",
    "    ## if it's a SVM model\n",
    "    if hasattr(model, 'support_'):\n",
    "        # if it's a SVC, plot the support vectors\n",
    "        index = model.support_\n",
    "        plt.scatter(x[index], y[index], c=label[index], s=200, alpha=0.33, edgecolors='k')"
   ]
  },
  {
   "cell_type": "code",
   "execution_count": 12,
   "metadata": {},
   "outputs": [
    {
     "data": {
      "image/png": "[encoded data removed]",
      "text/plain": [
       "<matplotlib.figure.Figure at 0x1075e4150>"
      ]
     },
     "metadata": {},
     "output_type": "display_data"
    }
   ],
   "source": [
    "plot_model(tree_model, iris.data[:, 2], iris.data[:, 3], iris.target)\n",
    "plt.xlabel('Petal Length')\n",
    "plt.ylabel('Petal Width')\n",
    "plt.show()"
   ]
  },
  {
   "cell_type": "markdown",
   "metadata": {},
   "source": [
    "<p><a name=\"rf\"></a></p>\n",
    "## Random Forest in Scikit Learn\n",
    "\n",
    "### Bagging\n",
    "\n",
    "By averaging a collection of bootstrap (repeated) samples from the training data set, we can dramatically reduce the variance of trees, leading to improved prediction, this is called bagging.\n",
    "\n",
    "- generate B bootstrapped training dataset.\n",
    "\n",
    "- for each test observation, we record the class predicted by each of the B trees, and choose the majority\n",
    "\n",
    "- the overall prediction is the most commonly occurring class among the B predictions.\n",
    "\n",
    "\n",
    "\n",
    "The function **ensemble.RandomForestClassifier** in library sklean can be used to implement random forest."
   ]
  },
  {
   "cell_type": "code",
   "execution_count": 13,
   "metadata": {
    "collapsed": true
   },
   "outputs": [],
   "source": [
    "from sklearn import ensemble\n",
    "randomForest = ensemble.RandomForestClassifier()"
   ]
  },
  {
   "cell_type": "markdown",
   "metadata": {},
   "source": [
    "### Arguments\n",
    "\n",
    "Since random forest is combined by decision trees, it also has the arguments of tree: \n",
    "\n",
    "- **criterion** : default=”gini”.\n",
    "- **max_depth**: default = None.\n",
    "- **min_samples_split**: default = 2.\n",
    "- **min_samples_leaf**: default = 1.\n",
    "- **n_estimators**: The number of trees. default=100.\n",
    "- **bootstrap**: Whether bootstrap samples are used when building trees. default=true.\n",
    "- **oob_score**: Whether to use out-of-bag samples to estimate the generalization error. default=false.\n",
    "\n",
    "### Methods\n",
    "\n",
    "- **fit**: Build a forest of trees from the training set (X, y).\n",
    "- **score**: Return the mean accuracy on the given test data and labels.\n",
    "- **predict**: Predict class for X.\n",
    "- **predict_log_proba**: Predict class log-probabilities for X.\n",
    "- **predict_proba**: Predict class probabilities for X.\n",
    "- **set_params**: Set the parameters of this estimator.\n",
    "- **get_params**: Get parameters for this estimator.\n",
    "\n",
    "### Attributes\n",
    "\n",
    "- **feature\\_importances\\_**:The feature importances (the higher, the more important the feature).\n",
    "\n",
    "- **oob\\_score\\_**: Score of the training dataset obtained using an out-of-bag estimate."
   ]
  },
  {
   "cell_type": "markdown",
   "metadata": {},
   "source": [
    "<p><a name=\"3case1\"></a></p>\n",
    "### Case 1: Iris Data"
   ]
  },
  {
   "cell_type": "markdown",
   "metadata": {},
   "source": [
    "We use all the observations and the last two features, \"petal length\" and \"petal width\", in the iris data to build a decision-tree."
   ]
  },
  {
   "cell_type": "code",
   "execution_count": 15,
   "metadata": {},
   "outputs": [
    {
     "data": {
      "text/plain": [
       "0.98666666666666669"
      ]
     },
     "execution_count": 15,
     "metadata": {},
     "output_type": "execute_result"
    }
   ],
   "source": [
    "randomForest.set_params(random_state=42)\n",
    "randomForest.fit(iris.data[:, 2:4], iris.target) # fit \n",
    "randomForest.score(iris.data[:, 2:4], iris.target) # accuracy"
   ]
  },
  {
   "cell_type": "code",
   "execution_count": 16,
   "metadata": {},
   "outputs": [
    {
     "data": {
      "image/png": "[encoded data removed]",
      "text/plain": [
       "<matplotlib.figure.Figure at 0x1133c5590>"
      ]
     },
     "metadata": {},
     "output_type": "display_data"
    }
   ],
   "source": [
    "plot_model(randomForest, iris.data[:, 2], iris.data[:, 3], iris.target)\n",
    "plt.xlabel('Petal Length')\n",
    "plt.ylabel('Petal Width')\n",
    "plt.show()"
   ]
  },
  {
   "cell_type": "markdown",
   "metadata": {},
   "source": [
    "### Feature Importance\n",
    "\n",
    "- We then sort the features by importance:"
   ]
  },
  {
   "cell_type": "code",
   "execution_count": 19,
   "metadata": {
    "collapsed": true
   },
   "outputs": [],
   "source": [
    "import pandas as pd\n",
    "from sklearn.model_selection import train_test_split"
   ]
  },
  {
   "cell_type": "code",
   "execution_count": 22,
   "metadata": {},
   "outputs": [],
   "source": [
    "x,y=iris.data,iris.target\n",
    "x_train,x_test,y_train,y_test=train_test_split(x,y, train_size=0.8, test_size=0.2, random_state=123)"
   ]
  },
  {
   "cell_type": "code",
   "execution_count": 36,
   "metadata": {},
   "outputs": [
    {
     "name": "stdout",
     "output_type": "stream",
     "text": [
      "The training error of random forest is: 0.00000\n",
      "The test     error of random forest is: 0.06667\n"
     ]
    }
   ],
   "source": [
    "rnd_clf = randomForest.set_params(n_estimators=50, random_state=42)\n",
    "rnd_clf.fit(x_train, y_train)\n",
    "print(\"The training error of random forest is: %.5f\" %(1 - rnd_clf.score(x_train, y_train)))\n",
    "print(\"The test     error of random forest is: %.5f\" %(1 - rnd_clf.score(x_test, y_test)))"
   ]
  },
  {
   "cell_type": "code",
   "execution_count": 37,
   "metadata": {},
   "outputs": [
    {
     "name": "stdout",
     "output_type": "stream",
     "text": [
      "('sepal length (cm)', '=', 0.098017227317868244)\n",
      "('sepal width (cm)', '=', 0.036174259541753136)\n",
      "('petal length (cm)', '=', 0.43793549758318467)\n",
      "('petal width (cm)', '=', 0.42787301555719404)\n"
     ]
    }
   ],
   "source": [
    "for name, importance in zip(iris[\"feature_names\"], rnd_clf.feature_importances_):\n",
    "    print(name, \"=\", importance)"
   ]
  },
  {
   "cell_type": "code",
   "execution_count": 38,
   "metadata": {},
   "outputs": [
    {
     "data": {
      "image/png": "[encoded data removed]",
      "text/plain": [
       "<matplotlib.figure.Figure at 0x116807a90>"
      ]
     },
     "metadata": {},
     "output_type": "display_data"
    }
   ],
   "source": [
    "features = iris['feature_names']\n",
    "importances = rnd_clf.feature_importances_\n",
    "indices = np.argsort(importances)\n",
    "\n",
    "plt.title('Feature Importances')\n",
    "plt.barh(range(len(indices)), importances[indices], color='b', align='center')\n",
    "plt.yticks(range(len(indices)), [features[i] for i in indices])\n",
    "plt.xlabel('Relative Importance')\n",
    "plt.show()"
   ]
  },
  {
   "cell_type": "markdown",
   "metadata": {},
   "source": [
    "### OOB-Score\n",
    "\n",
    "- oob-score is the *out of bag* score, which is also used to evaluate the model.\n",
    "- After fitting on the bootstrap sample, it make predictions on the rest of the data set(out of the bootstrap sample).\n",
    "- We can not control the numbers of observations in the out of bag sample.\n",
    "\n",
    "We need to set *oob-score=true* manually when fit the model:"
   ]
  },
  {
   "cell_type": "code",
   "execution_count": 39,
   "metadata": {},
   "outputs": [
    {
     "data": {
      "text/plain": [
       "RandomForestClassifier(bootstrap=True, class_weight=None, criterion='gini',\n",
       "            max_depth=None, max_features='auto', max_leaf_nodes=None,\n",
       "            min_impurity_split=1e-07, min_samples_leaf=1,\n",
       "            min_samples_split=2, min_weight_fraction_leaf=0.0,\n",
       "            n_estimators=50, n_jobs=-1, oob_score=True, random_state=42,\n",
       "            verbose=0, warm_start=False)"
      ]
     },
     "execution_count": 39,
     "metadata": {},
     "output_type": "execute_result"
    }
   ],
   "source": [
    "rnd_clf.set_params(oob_score=True, random_state=42)\n",
    "rnd_clf.fit(x_train, y_train)"
   ]
  },
  {
   "cell_type": "code",
   "execution_count": 40,
   "metadata": {},
   "outputs": [
    {
     "data": {
      "text/plain": [
       "0.94999999999999996"
      ]
     },
     "execution_count": 40,
     "metadata": {},
     "output_type": "execute_result"
    }
   ],
   "source": [
    "randomForest.oob_score_"
   ]
  },
  {
   "cell_type": "markdown",
   "metadata": {},
   "source": [
    "<p><a name=\"kmeans\"></a></p>\n",
    "## K-means in Scikit Learn\n",
    "Import the class *KMeans* from the module *cluster* in the sklearn library."
   ]
  },
  {
   "cell_type": "code",
   "execution_count": 43,
   "metadata": {
    "collapsed": true
   },
   "outputs": [],
   "source": [
    "from __future__ import print_function\n",
    "from sklearn.cluster import KMeans\n",
    "kmeans = KMeans()"
   ]
  },
  {
   "cell_type": "markdown",
   "metadata": {},
   "source": [
    "**Arguments:**\n",
    "\n",
    "- **n_clusters**: The number of clusters to divide, default is 8.\n",
    "- **max_iter**: The maximal number of iterations, default is 300.\n",
    "- **n_init**: Number of time the k-means algorithm will run with different centroid seeds. The final results will be the best output of n_init consecutive runs in terms of inertia. default is 10.\n",
    "- **init**: Method for initialization, defaults to 'k-means++'. Other options are 'random' or an ndarray of shape (n_clusters, n_features) and gives the initial centers.\n",
    "- **random_state**: Optional. The generator used to initialize the centers. If an integer is given, it fixes the seed. Defaults to the global numpy random number generator.\n",
    "\n",
    "Usually, we just need to set the argument **n_clusters** to determine how many groups are we going to split."
   ]
  },
  {
   "cell_type": "markdown",
   "metadata": {},
   "source": [
    "**Attributes:**\n",
    "\n",
    "- **cluster\\_centers\\_**: The coordinates of cluster centers.\n",
    "\n",
    "- **labels_**: Labels of each observation, which indicate the group number of each observation.\n",
    "\n",
    "- **inertia_**: Sum of distances of samples to their closest cluster center.\n",
    "\n",
    "The most import attribute here is the **labels_** ."
   ]
  },
  {
   "cell_type": "markdown",
   "metadata": {},
   "source": [
    "**Methods:**\n",
    "\n",
    "- **fit**: Fit k-means clustering on a given data set.\n",
    "- **fit_predict**: Compute cluster centers and predict cluster index for each sample.\n",
    "- **get_params**: Get parameters for this estimator.\n",
    "- **set_params**: Set the parameters of this estimator.\n",
    "- **predict**: Given a set of data, predict the closest cluster each sample belongs to."
   ]
  },
  {
   "cell_type": "code",
   "execution_count": 44,
   "metadata": {
    "collapsed": true
   },
   "outputs": [],
   "source": [
    "from matplotlib import cm\n",
    "from sklearn.metrics import silhouette_samples\n",
    "\n",
    "def plot_silhouette(km, X):\n",
    "    y_km = kmeans.fit_predict(x)\n",
    "    cluster_labels = np.unique(y_km)\n",
    "    n_clusters = cluster_labels.shape[0]\n",
    "    silhouette_vals = silhouette_samples(x, y_km, metric='euclidean')\n",
    "    y_ax_lower, y_ax_upper = 0, 0\n",
    "    yticks = []\n",
    "    for i, c in enumerate(cluster_labels):\n",
    "        # Aggregate the silhouette scores for samples belonging to\n",
    "        # cluster c, and sort them\n",
    "        c_silhouette_vals = silhouette_vals[y_km == c]\n",
    "        c_silhouette_vals.sort()\n",
    "\n",
    "        size_cluster_c = len(c_silhouette_vals)\n",
    "        y_ax_upper += size_cluster_c\n",
    "        color = cm.jet(i*1.0/n_clusters)\n",
    "        plt.barh(range(y_ax_lower, y_ax_upper), c_silhouette_vals, height=1.0, color=color)\n",
    "\n",
    "        # Compute the new y_ax_lower for next plot\n",
    "        yticks.append((y_ax_lower + y_ax_upper) / 2)\n",
    "        y_ax_lower += size_cluster_c\n",
    "\n",
    "    # The vertical line for average silhouette score of all the values\n",
    "    silhouette_avg = np.mean(silhouette_vals)\n",
    "    plt.axvline(silhouette_avg, color='red', linestyle='--')\n",
    "\n",
    "    plt.yticks(yticks, cluster_labels + 1)\n",
    "    plt.title('Silhouette Analysis')\n",
    "    plt.ylabel('Cluster')\n",
    "    plt.xlabel('Silhouette coefficient')\n",
    "    plt.show()"
   ]
  },
  {
   "cell_type": "markdown",
   "metadata": {},
   "source": [
    "<p><a name=\"kcase2\"></a></p>\n",
    "\n",
    "\n",
    "In this case, we try to split the iris data into multiple groups by using the features *sepal length*, *sepal width*, *petal length*, *petal width*.\n",
    "\n",
    "- Set the argument *n_clusters* to 3.\n",
    "- Fit the iris data."
   ]
  },
  {
   "cell_type": "code",
   "execution_count": 45,
   "metadata": {},
   "outputs": [
    {
     "data": {
      "text/plain": [
       "KMeans(algorithm='auto', copy_x=True, init='k-means++', max_iter=300,\n",
       "    n_clusters=3, n_init=10, n_jobs=1, precompute_distances='auto',\n",
       "    random_state=None, tol=0.0001, verbose=0)"
      ]
     },
     "execution_count": 45,
     "metadata": {},
     "output_type": "execute_result"
    }
   ],
   "source": [
    "from sklearn import datasets\n",
    "iris = datasets.load_iris()\n",
    "kmeans.set_params(n_clusters=3)\n",
    "kmeans.fit(iris.data)"
   ]
  },
  {
   "cell_type": "markdown",
   "metadata": {},
   "source": [
    "- The centroid of each cluster:"
   ]
  },
  {
   "cell_type": "code",
   "execution_count": 46,
   "metadata": {},
   "outputs": [
    {
     "data": {
      "text/plain": [
       "array([[ 5.9016129 ,  2.7483871 ,  4.39354839,  1.43387097],\n",
       "       [ 5.006     ,  3.418     ,  1.464     ,  0.244     ],\n",
       "       [ 6.85      ,  3.07368421,  5.74210526,  2.07105263]])"
      ]
     },
     "execution_count": 46,
     "metadata": {},
     "output_type": "execute_result"
    }
   ],
   "source": [
    "kmeans.cluster_centers_"
   ]
  },
  {
   "cell_type": "markdown",
   "metadata": {},
   "source": [
    "- The label of each observation."
   ]
  },
  {
   "cell_type": "code",
   "execution_count": 47,
   "metadata": {},
   "outputs": [
    {
     "data": {
      "text/plain": [
       "array([1, 1, 1, 1, 1, 1, 1, 1, 1, 1, 1, 1, 1, 1, 1, 1, 1, 1, 1, 1, 1, 1, 1,\n",
       "       1, 1, 1, 1, 1, 1, 1, 1, 1, 1, 1, 1, 1, 1, 1, 1, 1, 1, 1, 1, 1, 1, 1,\n",
       "       1, 1, 1, 1, 0, 0, 2, 0, 0, 0, 0, 0, 0, 0, 0, 0, 0, 0, 0, 0, 0, 0, 0,\n",
       "       0, 0, 0, 0, 0, 0, 0, 0, 2, 0, 0, 0, 0, 0, 0, 0, 0, 0, 0, 0, 0, 0, 0,\n",
       "       0, 0, 0, 0, 0, 0, 0, 0, 2, 0, 2, 2, 2, 2, 0, 2, 2, 2, 2, 2, 2, 0, 0,\n",
       "       2, 2, 2, 2, 0, 2, 0, 2, 0, 2, 2, 0, 0, 2, 2, 2, 2, 2, 0, 2, 2, 2, 2,\n",
       "       0, 2, 2, 2, 0, 2, 2, 2, 0, 2, 2, 0], dtype=int32)"
      ]
     },
     "execution_count": 47,
     "metadata": {},
     "output_type": "execute_result"
    }
   ],
   "source": [
    "kmeans.labels_"
   ]
  },
  {
   "cell_type": "code",
   "execution_count": 48,
   "metadata": {},
   "outputs": [
    {
     "data": {
      "image/png": "[encoded data removed]",
      "text/plain": [
       "<matplotlib.figure.Figure at 0x11414f510>"
      ]
     },
     "metadata": {},
     "output_type": "display_data"
    }
   ],
   "source": [
    "plt.scatter(iris.data[:, 2], iris.data[:, 3], c=kmeans.labels_, alpha=0.8)\n",
    "plt.scatter(kmeans.cluster_centers_[:, 2], kmeans.cluster_centers_[:, 3], marker=\"+\", s=1000, c=[0, 1, 2])\n",
    "plt.xlabel('Petal Length')\n",
    "plt.ylabel('Petal Width')\n",
    "plt.show()"
   ]
  },
  {
   "cell_type": "code",
   "execution_count": null,
   "metadata": {
    "collapsed": true
   },
   "outputs": [],
   "source": []
  },
  {
   "cell_type": "markdown",
   "metadata": {},
   "source": [
    "The big markers \"+\" refers to the centroid of each cluster. \n",
    "\n",
    "We can also fit the principal components to the KMeans algorithm. Perform K means on the new dataset below, and then find the centers and the labels."
   ]
  },
  {
   "cell_type": "markdown",
   "metadata": {},
   "source": [
    "- Plot the elbow method. What is the optimal number of clusters?"
   ]
  },
  {
   "cell_type": "code",
   "execution_count": 50,
   "metadata": {
    "collapsed": true
   },
   "outputs": [],
   "source": [
    "def plot_inertia(km, X, n_cluster_range):\n",
    "    inertias = []\n",
    "    for i in n_cluster_range:\n",
    "        km.set_params(n_clusters=i)\n",
    "        km.fit(X)\n",
    "        inertias.append(km.inertia_)\n",
    "    plt.plot(n_cluster_range, inertias, marker='o')\n",
    "    plt.title('Elbow method')\n",
    "    plt.xlabel('Number of clusters')\n",
    "    plt.ylabel('Inertia')\n",
    "    plt.show()"
   ]
  },
  {
   "cell_type": "code",
   "execution_count": 52,
   "metadata": {},
   "outputs": [
    {
     "data": {
      "image/png": "[encoded data removed]",
      "text/plain": [
       "<matplotlib.figure.Figure at 0x114144590>"
      ]
     },
     "metadata": {},
     "output_type": "display_data"
    }
   ],
   "source": [
    "#### Your code here\n",
    "plot_inertia(kmeans, iris.data, range(1, 10))"
   ]
  },
  {
   "cell_type": "code",
   "execution_count": 55,
   "metadata": {},
   "outputs": [
    {
     "data": {
      "image/png": "[encoded data removed]",
      "text/plain": [
       "<matplotlib.figure.Figure at 0x11416ead0>"
      ]
     },
     "metadata": {},
     "output_type": "display_data"
    }
   ],
   "source": [
    "### Your code here\n",
    "kmeans.set_params(n_clusters=3)\n",
    "plot_silhouette(kmeans, iris.data)"
   ]
  },
  {
   "cell_type": "markdown",
   "metadata": {},
   "source": [
    "<p><a name=\"swkmeans\"></a></p>\n",
    "### Strengths and Weaknesses of K-means\n",
    "\n",
    "- Strengths\n",
    "\n",
    "    - Use simple principles for identifying clusters which can be explained in non-statistical terms.\n",
    "    - It is fairly efficient and performs well at dividing the data into useful clusters.\n",
    "    \n",
    "- Weaknesses\n",
    "\n",
    "    - It is less sophisticated than more recent clustering algorithms.\n",
    "    - Because it uses initial random choice, it is not guaranteed to find the optimal set of clusters.\n",
    "    - Require a reasonable guess for how many clusters naturally exist in the data.\n",
    "\n",
    "<p><a name=\"hier\"></a></p>\n",
    "## Hierarchical Clustering"
   ]
  },
  {
   "cell_type": "code",
   "execution_count": 56,
   "metadata": {
    "collapsed": true
   },
   "outputs": [],
   "source": [
    "from sklearn.cluster import AgglomerativeClustering\n",
    "hier = AgglomerativeClustering()"
   ]
  },
  {
   "cell_type": "markdown",
   "metadata": {},
   "source": [
    "**Arguments:**\n",
    "\n",
    "- **n_clusters**: The number of clusters to find. default=2 \n",
    "\n",
    "- **affinity**: Metric used to compute the linkage. Can be “euclidean”, “l1”, “l2”, “manhattan”, “cosine”. If linkage is “ward”, only “euclidean” is accepted. default: “euclidean”\n",
    "\n",
    "- **linkage**: Which linkage criterion to use. The linkage criterion determines which distance to use between sets of observation. The algorithm will merge the pairs of cluster that minimize this criterion.\n",
    "    - *ward* minimizes the variance of the clusters being merged.\n",
    "    - *average* uses the average of the distances of each observation of the two sets.\n",
    "    - *complete* or maximum linkage uses the maximum distances between all observations of the two sets."
   ]
  },
  {
   "cell_type": "markdown",
   "metadata": {},
   "source": [
    "**Arguments:**\n",
    "\n",
    "- The possible values of the **affinity** are “euclidean”, “l1”, “l2”, “manhattan”, “cosine”.\n",
    "\n",
    "- \"l1\" is the same as \"manhattan\", while \"l2\" is the same as \"euclidean\".\n",
    "\n",
    "- \"cosine\" here in python is not the same as we told previously."
   ]
  },
  {
   "cell_type": "markdown",
   "metadata": {},
   "source": [
    "\n",
    "The smaller the euclidean/manhattan distance is, the closer the two observations are.  The smaller the cosine is, the more far the observations are.\n",
    "\n",
    "So in Python, the cosine distance is redefined as :\n",
    "$$1 - \\frac{\\sum_{i=1}^{n} x_{1i} \\times x_{2i}} {\\sqrt{ \\parallel x_1 \\parallel ^2} \\times \\sqrt{ \\parallel x_2 \\parallel ^2}}$$\n",
    "\n",
    "Now the cosine distance ranges from 0 to 2, and the smaller it is, the closer the observations are.\n",
    "\n",
    "- 0: two vectors point to the same direction\n",
    "- 1: perpendicular\n",
    "- 2: opposite direction"
   ]
  },
  {
   "cell_type": "markdown",
   "metadata": {},
   "source": [
    "<p><a name=\"distance\"></a></p>\n",
    "### Distance in Scikit Learn\n",
    "We can compute the different distances by using the function **pairwise_distances**."
   ]
  },
  {
   "cell_type": "code",
   "execution_count": 57,
   "metadata": {
    "collapsed": true
   },
   "outputs": [],
   "source": [
    "import numpy as np\n",
    "a = np.array([[1, 2], [2, 1]])"
   ]
  },
  {
   "cell_type": "markdown",
   "metadata": {},
   "source": [
    "<p><a name=\"manh\"></a></p>\n",
    "#### Manhattan Distance"
   ]
  },
  {
   "cell_type": "code",
   "execution_count": 58,
   "metadata": {},
   "outputs": [
    {
     "data": {
      "text/plain": [
       "array([[ 0.,  2.],\n",
       "       [ 2.,  0.]])"
      ]
     },
     "execution_count": 58,
     "metadata": {},
     "output_type": "execute_result"
    }
   ],
   "source": [
    "from sklearn.metrics.pairwise import pairwise_distances\n",
    "pairwise_distances(a, metric='l1') \n",
    "# abs(1-2) + abs(2-1)  = 2"
   ]
  },
  {
   "cell_type": "markdown",
   "metadata": {},
   "source": [
    "<p><a name=\"euclidean\"></a></p>\n",
    "#### Euclidean Distance"
   ]
  },
  {
   "cell_type": "code",
   "execution_count": 59,
   "metadata": {},
   "outputs": [
    {
     "data": {
      "text/plain": [
       "array([[ 0.        ,  1.41421356],\n",
       "       [ 1.41421356,  0.        ]])"
      ]
     },
     "execution_count": 59,
     "metadata": {},
     "output_type": "execute_result"
    }
   ],
   "source": [
    "pairwise_distances(a, metric='l2') \n",
    "# ((1-2)**2 + (2-1) ** 2) ** 0.5 = 1.4142"
   ]
  },
  {
   "cell_type": "markdown",
   "metadata": {},
   "source": [
    "<p><a name=\"cosine\"></a></p>\n",
    "#### Cosine Distance"
   ]
  },
  {
   "cell_type": "code",
   "execution_count": 60,
   "metadata": {},
   "outputs": [
    {
     "data": {
      "text/plain": [
       "array([[ 0. ,  0.2],\n",
       "       [ 0.2,  0. ]])"
      ]
     },
     "execution_count": 60,
     "metadata": {},
     "output_type": "execute_result"
    }
   ],
   "source": [
    "pairwise_distances(a, metric='cosine') \n",
    "# 1 - (1*2 + 2*1)/(5**0.5 * 5**0.5) = 0.2"
   ]
  },
  {
   "cell_type": "markdown",
   "metadata": {},
   "source": [
    "**Attributes:**\n",
    "\n",
    "- **labels_**: Cluster labels for each observation.\n",
    "- **n\\_leaves\\_**: Number of leaves in the hierarchical tree, which is also the number of observations.\n",
    "\n",
    "**Methods:**\n",
    "\n",
    "- **fit**: Fit the hierarchical clustering on the data.\n",
    "- **get_params**: Get parameters for this estimator.\n",
    "- **set_params**: Set the parameters of this estimator."
   ]
  },
  {
   "cell_type": "code",
   "execution_count": 61,
   "metadata": {},
   "outputs": [
    {
     "data": {
      "text/plain": [
       "AgglomerativeClustering(affinity='euclidean', compute_full_tree='auto',\n",
       "            connectivity=None, linkage='ward',\n",
       "            memory=Memory(cachedir=None), n_clusters=3,\n",
       "            pooling_func=<function mean at 0x108172140>)"
      ]
     },
     "execution_count": 61,
     "metadata": {},
     "output_type": "execute_result"
    }
   ],
   "source": [
    "from sklearn import datasets\n",
    "iris = datasets.load_iris()\n",
    "hier.set_params(n_clusters=3)\n",
    "hier.fit(iris.data)"
   ]
  },
  {
   "cell_type": "code",
   "execution_count": 62,
   "metadata": {},
   "outputs": [
    {
     "data": {
      "text/plain": [
       "array([1, 1, 1, 1, 1, 1, 1, 1, 1, 1, 1, 1, 1, 1, 1, 1, 1, 1, 1, 1, 1, 1, 1,\n",
       "       1, 1, 1, 1, 1, 1, 1, 1, 1, 1, 1, 1, 1, 1, 1, 1, 1, 1, 1, 1, 1, 1, 1,\n",
       "       1, 1, 1, 1, 0, 0, 0, 0, 0, 0, 0, 0, 0, 0, 0, 0, 0, 0, 0, 0, 0, 0, 0,\n",
       "       0, 0, 0, 0, 0, 0, 0, 0, 2, 0, 0, 0, 0, 0, 0, 0, 0, 0, 0, 0, 0, 0, 0,\n",
       "       0, 0, 0, 0, 0, 0, 0, 0, 2, 0, 2, 2, 2, 2, 0, 2, 2, 2, 2, 2, 2, 0, 0,\n",
       "       2, 2, 2, 2, 0, 2, 0, 2, 0, 2, 2, 0, 0, 2, 2, 2, 2, 2, 0, 0, 2, 2, 2,\n",
       "       0, 2, 2, 2, 0, 2, 2, 2, 0, 2, 2, 0])"
      ]
     },
     "execution_count": 62,
     "metadata": {},
     "output_type": "execute_result"
    }
   ],
   "source": [
    "hier.labels_"
   ]
  },
  {
   "cell_type": "code",
   "execution_count": 63,
   "metadata": {},
   "outputs": [
    {
     "data": {
      "image/png": "[encoded data removed]",
      "text/plain": [
       "<matplotlib.figure.Figure at 0x117b410d0>"
      ]
     },
     "metadata": {},
     "output_type": "display_data"
    }
   ],
   "source": [
    "import matplotlib.pyplot as plt\n",
    "plt.rcParams['figure.figsize'] = 8, 6\n",
    "plt.scatter(iris.data[:, 2], iris.data[:, 3], c=hier.labels_, alpha=0.8)\n",
    "plt.show()"
   ]
  },
  {
   "cell_type": "code",
   "execution_count": 64,
   "metadata": {
    "collapsed": true
   },
   "outputs": [],
   "source": [
    "from scipy.cluster.hierarchy import dendrogram, linkage\n",
    "from scipy.spatial.distance import pdist, squareform\n",
    "\n",
    "def linkage_frame(data):\n",
    "    row_clusters = linkage(data, method='complete', metric='euclidean')\n",
    "    columns = ['row label 1', 'row label 2', 'distance', 'no. items in clust.']\n",
    "    index = ['cluster %d' % (i + 1) for i in range(row_clusters.shape[0])]\n",
    "    linkage_df = pd.DataFrame(row_clusters, columns=columns, index=index)\n",
    "    return linkage_df"
   ]
  },
  {
   "cell_type": "code",
   "execution_count": 65,
   "metadata": {},
   "outputs": [
    {
     "data": {
      "text/html": [
       "<div>\n",
       "<style>\n",
       "    .dataframe thead tr:only-child th {\n",
       "        text-align: right;\n",
       "    }\n",
       "\n",
       "    .dataframe thead th {\n",
       "        text-align: left;\n",
       "    }\n",
       "\n",
       "    .dataframe tbody tr th {\n",
       "        vertical-align: top;\n",
       "    }\n",
       "</style>\n",
       "<table border=\"1\" class=\"dataframe\">\n",
       "  <thead>\n",
       "    <tr style=\"text-align: right;\">\n",
       "      <th></th>\n",
       "      <th>sepal length (cm)</th>\n",
       "      <th>sepal width (cm)</th>\n",
       "      <th>petal length (cm)</th>\n",
       "      <th>petal width (cm)</th>\n",
       "    </tr>\n",
       "  </thead>\n",
       "  <tbody>\n",
       "    <tr>\n",
       "      <th>0</th>\n",
       "      <td>5.1</td>\n",
       "      <td>3.5</td>\n",
       "      <td>1.4</td>\n",
       "      <td>0.2</td>\n",
       "    </tr>\n",
       "    <tr>\n",
       "      <th>1</th>\n",
       "      <td>4.9</td>\n",
       "      <td>3.0</td>\n",
       "      <td>1.4</td>\n",
       "      <td>0.2</td>\n",
       "    </tr>\n",
       "    <tr>\n",
       "      <th>2</th>\n",
       "      <td>4.7</td>\n",
       "      <td>3.2</td>\n",
       "      <td>1.3</td>\n",
       "      <td>0.2</td>\n",
       "    </tr>\n",
       "    <tr>\n",
       "      <th>3</th>\n",
       "      <td>4.6</td>\n",
       "      <td>3.1</td>\n",
       "      <td>1.5</td>\n",
       "      <td>0.2</td>\n",
       "    </tr>\n",
       "    <tr>\n",
       "      <th>4</th>\n",
       "      <td>5.0</td>\n",
       "      <td>3.6</td>\n",
       "      <td>1.4</td>\n",
       "      <td>0.2</td>\n",
       "    </tr>\n",
       "  </tbody>\n",
       "</table>\n",
       "</div>"
      ],
      "text/plain": [
       "   sepal length (cm)  sepal width (cm)  petal length (cm)  petal width (cm)\n",
       "0                5.1               3.5                1.4               0.2\n",
       "1                4.9               3.0                1.4               0.2\n",
       "2                4.7               3.2                1.3               0.2\n",
       "3                4.6               3.1                1.5               0.2\n",
       "4                5.0               3.6                1.4               0.2"
      ]
     },
     "execution_count": 65,
     "metadata": {},
     "output_type": "execute_result"
    }
   ],
   "source": [
    "iris_df = pd.DataFrame(iris.data, columns=iris.feature_names)\n",
    "iris_df.head()"
   ]
  },
  {
   "cell_type": "code",
   "execution_count": 66,
   "metadata": {},
   "outputs": [
    {
     "data": {
      "text/html": [
       "<div>\n",
       "<style>\n",
       "    .dataframe thead tr:only-child th {\n",
       "        text-align: right;\n",
       "    }\n",
       "\n",
       "    .dataframe thead th {\n",
       "        text-align: left;\n",
       "    }\n",
       "\n",
       "    .dataframe tbody tr th {\n",
       "        vertical-align: top;\n",
       "    }\n",
       "</style>\n",
       "<table border=\"1\" class=\"dataframe\">\n",
       "  <thead>\n",
       "    <tr style=\"text-align: right;\">\n",
       "      <th></th>\n",
       "      <th>row label 1</th>\n",
       "      <th>row label 2</th>\n",
       "      <th>distance</th>\n",
       "      <th>no. items in clust.</th>\n",
       "    </tr>\n",
       "  </thead>\n",
       "  <tbody>\n",
       "    <tr>\n",
       "      <th>cluster 1</th>\n",
       "      <td>9.0</td>\n",
       "      <td>34.0</td>\n",
       "      <td>0.0</td>\n",
       "      <td>2.0</td>\n",
       "    </tr>\n",
       "    <tr>\n",
       "      <th>cluster 2</th>\n",
       "      <td>37.0</td>\n",
       "      <td>150.0</td>\n",
       "      <td>0.0</td>\n",
       "      <td>3.0</td>\n",
       "    </tr>\n",
       "    <tr>\n",
       "      <th>cluster 3</th>\n",
       "      <td>101.0</td>\n",
       "      <td>142.0</td>\n",
       "      <td>0.0</td>\n",
       "      <td>2.0</td>\n",
       "    </tr>\n",
       "    <tr>\n",
       "      <th>cluster 4</th>\n",
       "      <td>7.0</td>\n",
       "      <td>39.0</td>\n",
       "      <td>0.1</td>\n",
       "      <td>2.0</td>\n",
       "    </tr>\n",
       "    <tr>\n",
       "      <th>cluster 5</th>\n",
       "      <td>0.0</td>\n",
       "      <td>17.0</td>\n",
       "      <td>0.1</td>\n",
       "      <td>2.0</td>\n",
       "    </tr>\n",
       "  </tbody>\n",
       "</table>\n",
       "</div>"
      ],
      "text/plain": [
       "           row label 1  row label 2  distance  no. items in clust.\n",
       "cluster 1          9.0         34.0       0.0                  2.0\n",
       "cluster 2         37.0        150.0       0.0                  3.0\n",
       "cluster 3        101.0        142.0       0.0                  2.0\n",
       "cluster 4          7.0         39.0       0.1                  2.0\n",
       "cluster 5          0.0         17.0       0.1                  2.0"
      ]
     },
     "execution_count": 66,
     "metadata": {},
     "output_type": "execute_result"
    }
   ],
   "source": [
    "linkage_df = linkage_frame(iris_df.values)\n",
    "linkage_df.head()"
   ]
  },
  {
   "cell_type": "markdown",
   "metadata": {},
   "source": [
    "- dendrogram?"
   ]
  },
  {
   "cell_type": "code",
   "execution_count": 67,
   "metadata": {},
   "outputs": [
    {
     "data": {
      "image/png": "[encoded data removed]",
      "text/plain": [
       "<matplotlib.figure.Figure at 0x117b0cc50>"
      ]
     },
     "metadata": {},
     "output_type": "display_data"
    }
   ],
   "source": [
    "row_dendr = dendrogram(linkage_df, leaf_rotation=90, leaf_font_size=8)\n",
    "plt.tight_layout()\n",
    "plt.ylabel('Euclidean distance')\n",
    "plt.show()"
   ]
  },
  {
   "cell_type": "code",
   "execution_count": null,
   "metadata": {
    "collapsed": true
   },
   "outputs": [],
   "source": []
  },
  {
   "cell_type": "code",
   "execution_count": null,
   "metadata": {
    "collapsed": true
   },
   "outputs": [],
   "source": []
  },
  {
   "cell_type": "code",
   "execution_count": null,
   "metadata": {
    "collapsed": true
   },
   "outputs": [],
   "source": []
  }
 ],
 "metadata": {
  "kernelspec": {
   "display_name": "Python 2",
   "language": "python",
   "name": "python2"
  },
  "language_info": {
   "codemirror_mode": {
    "name": "ipython",
    "version": 2
   },
   "file_extension": ".py",
   "mimetype": "text/x-python",
   "name": "python",
   "nbconvert_exporter": "python",
   "pygments_lexer": "ipython2",
   "version": "2.7.13"
  }
 },
 "nbformat": 4,
 "nbformat_minor": 2
}
