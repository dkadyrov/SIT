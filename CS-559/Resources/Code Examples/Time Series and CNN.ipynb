{
 "cells": [
  {
   "cell_type": "markdown",
   "metadata": {},
   "source": [
    "# Time Series"
   ]
  },
  {
   "cell_type": "code",
   "execution_count": 1,
   "metadata": {},
   "outputs": [],
   "source": [
    "import pandas as pd\n",
    "import numpy as np\n",
    "\n",
    "np.random.seed(252)\n",
    "\n",
    "def random_series(dts):\n",
    "    res = pd.Series(np.random.randn(len(dts)), index=dts)\n",
    "    return res"
   ]
  },
  {
   "cell_type": "markdown",
   "metadata": {},
   "source": [
    "No new classes for Series and DataFrame. \n",
    "A \"timeseries\" is a Series with a time index of some type. \n",
    "\n",
    "### Create a simple time series\n",
    "- Standard dateime import\n",
    "- Create a scalar time series\n",
    "- Show the new type of index - note no freq. "
   ]
  },
  {
   "cell_type": "code",
   "execution_count": 2,
   "metadata": {},
   "outputs": [],
   "source": [
    "import datetime as dt"
   ]
  },
  {
   "cell_type": "code",
   "execution_count": 3,
   "metadata": {},
   "outputs": [],
   "source": [
    "ts = pd.Timestamp('2000-01-01 00:00')"
   ]
  },
  {
   "cell_type": "code",
   "execution_count": 4,
   "metadata": {},
   "outputs": [
    {
     "data": {
      "text/plain": [
       "2000-01-01    101.7\n",
       "dtype: float64"
      ]
     },
     "execution_count": 4,
     "metadata": {},
     "output_type": "execute_result"
    }
   ],
   "source": [
    "s1 = pd.Series(101.7, index=[ts])\n",
    "s1"
   ]
  },
  {
   "cell_type": "code",
   "execution_count": 5,
   "metadata": {},
   "outputs": [
    {
     "data": {
      "text/plain": [
       "DatetimeIndex(['2000-01-01'], dtype='datetime64[ns]', freq=None)"
      ]
     },
     "execution_count": 5,
     "metadata": {},
     "output_type": "execute_result"
    }
   ],
   "source": [
    "s1.index"
   ]
  },
  {
   "cell_type": "markdown",
   "metadata": {},
   "source": [
    "### Time Series Utility Functions"
   ]
  },
  {
   "cell_type": "code",
   "execution_count": 6,
   "metadata": {},
   "outputs": [
    {
     "data": {
      "text/plain": [
       "2000-01-03   -0.011498\n",
       "2000-01-04   -0.085123\n",
       "2000-01-05    0.075910\n",
       "2000-01-06   -1.649279\n",
       "2000-01-07   -0.751812\n",
       "Freq: B, dtype: float64"
      ]
     },
     "execution_count": 6,
     "metadata": {},
     "output_type": "execute_result"
    }
   ],
   "source": [
    "# Create a year's worth of business dates\n",
    "dts = pd.date_range('2000-01-01', '2001-12-31', freq='B')\n",
    "ts = pd.Series(np.random.randn(len(dts)), index=dts)\n",
    "ts.head()"
   ]
  },
  {
   "cell_type": "markdown",
   "metadata": {},
   "source": [
    "### Selecting from a Time Series\n",
    "\n",
    "Notice how the slicing selects across non-cotigous dates."
   ]
  },
  {
   "cell_type": "code",
   "execution_count": 7,
   "metadata": {},
   "outputs": [
    {
     "data": {
      "text/plain": [
       "1.3091432326146675"
      ]
     },
     "execution_count": 7,
     "metadata": {},
     "output_type": "execute_result"
    }
   ],
   "source": [
    "ts['2000-03-20'] # ts.loc['2000-03-20']"
   ]
  },
  {
   "cell_type": "code",
   "execution_count": 8,
   "metadata": {},
   "outputs": [
    {
     "data": {
      "text/plain": [
       "2000-03-24    0.360544\n",
       "2000-03-27   -0.820640\n",
       "2000-03-28    0.106317\n",
       "2000-03-29    1.364270\n",
       "2000-03-30   -0.490908\n",
       "Freq: B, dtype: float64"
      ]
     },
     "execution_count": 8,
     "metadata": {},
     "output_type": "execute_result"
    }
   ],
   "source": [
    "ts['2000-03-24':'2000-03-30']"
   ]
  },
  {
   "cell_type": "markdown",
   "metadata": {},
   "source": [
    "#### Select by month"
   ]
  },
  {
   "cell_type": "code",
   "execution_count": 9,
   "metadata": {},
   "outputs": [
    {
     "data": {
      "text/plain": [
       "2000-02-01    1.157154\n",
       "2000-02-02    2.183902\n",
       "2000-02-03   -0.286083\n",
       "2000-02-04    1.283730\n",
       "2000-02-07    0.570529\n",
       "Freq: B, dtype: float64"
      ]
     },
     "execution_count": 9,
     "metadata": {},
     "output_type": "execute_result"
    }
   ],
   "source": [
    "ts['2000-02'].head()"
   ]
  },
  {
   "cell_type": "markdown",
   "metadata": {},
   "source": [
    "#### Select by year"
   ]
  },
  {
   "cell_type": "code",
   "execution_count": 10,
   "metadata": {},
   "outputs": [
    {
     "data": {
      "text/plain": [
       "2000-01-03   -0.011498\n",
       "2000-01-04   -0.085123\n",
       "2000-01-05    0.075910\n",
       "2000-01-06   -1.649279\n",
       "2000-01-07   -0.751812\n",
       "Freq: B, dtype: float64"
      ]
     },
     "execution_count": 10,
     "metadata": {},
     "output_type": "execute_result"
    }
   ],
   "source": [
    "ts['2000'].head()"
   ]
  },
  {
   "cell_type": "markdown",
   "metadata": {},
   "source": [
    "### Lagging/Shifting\n",
    "\n",
    "#### Lagging by value"
   ]
  },
  {
   "cell_type": "code",
   "execution_count": 11,
   "metadata": {},
   "outputs": [
    {
     "data": {
      "text/plain": [
       "2000-01-03         NaN\n",
       "2000-01-04   -0.011498\n",
       "2000-01-05   -0.085123\n",
       "2000-01-28   -1.724383\n",
       "2000-01-31   -0.858197\n",
       "dtype: float64"
      ]
     },
     "execution_count": 11,
     "metadata": {},
     "output_type": "execute_result"
    }
   ],
   "source": [
    "ts2k = ts['2000-01'].copy()\n",
    "ts2k.shift(1).iloc[[0, 1, 2, -2, -1]]"
   ]
  },
  {
   "cell_type": "markdown",
   "metadata": {},
   "source": [
    "Notice that the index is constant. We lose the first value. \n",
    "\n",
    "#### Shifting by Index\n",
    "\n",
    "The values remain constant but the index shifts."
   ]
  },
  {
   "cell_type": "code",
   "execution_count": 12,
   "metadata": {},
   "outputs": [
    {
     "data": {
      "text/plain": [
       "2000-01-04   -0.011498\n",
       "2000-01-05   -0.085123\n",
       "2000-01-06    0.075910\n",
       "2000-01-31   -0.858197\n",
       "2000-02-01    1.681411\n",
       "dtype: float64"
      ]
     },
     "execution_count": 12,
     "metadata": {},
     "output_type": "execute_result"
    }
   ],
   "source": [
    "ts2k.tshift(1).iloc[[0, 1, 2, -2, -1]]"
   ]
  },
  {
   "cell_type": "markdown",
   "metadata": {},
   "source": [
    "pandas understands the type of index  so the last element in the Series is updated to the next month!\n",
    "\n",
    "### Changing Frequencies: Resampleing\n",
    "\n",
    "Resampling is similar to grouping, expect with time and notions of forwards and backwards."
   ]
  },
  {
   "cell_type": "code",
   "execution_count": 13,
   "metadata": {},
   "outputs": [],
   "source": [
    "dts1 = pd.date_range('2000-01-01', '2000-03-31', freq='D')\n",
    "ts3 = pd.Series(np.random.randn(len(dts1)), index=dts1)"
   ]
  },
  {
   "cell_type": "code",
   "execution_count": 14,
   "metadata": {},
   "outputs": [],
   "source": [
    "grp = ts3.resample('M')"
   ]
  },
  {
   "cell_type": "markdown",
   "metadata": {},
   "source": [
    "#### Resample is like grouping"
   ]
  },
  {
   "cell_type": "code",
   "execution_count": 15,
   "metadata": {},
   "outputs": [
    {
     "data": {
      "text/plain": [
       "2000-01-31   -0.210334\n",
       "2000-02-29   -0.019870\n",
       "2000-03-31    0.213579\n",
       "Freq: M, dtype: float64"
      ]
     },
     "execution_count": 15,
     "metadata": {},
     "output_type": "execute_result"
    }
   ],
   "source": [
    "grp.mean()"
   ]
  },
  {
   "cell_type": "markdown",
   "metadata": {},
   "source": [
    "### Filling Missing Data"
   ]
  },
  {
   "cell_type": "code",
   "execution_count": 16,
   "metadata": {},
   "outputs": [
    {
     "data": {
      "text/plain": [
       "2000-01-02         NaN\n",
       "2000-01-03    1.301518\n",
       "2000-01-04         NaN\n",
       "2000-01-05   -1.452010\n",
       "2000-01-06    1.001597\n",
       "2000-01-07         NaN\n",
       "Freq: D, dtype: float64"
      ]
     },
     "execution_count": 16,
     "metadata": {},
     "output_type": "execute_result"
    }
   ],
   "source": [
    "def make_series_4():\n",
    "    dts = pd.date_range('2000-01-02', '2000-01-07', freq='D')\n",
    "    rv = pd.Series(np.random.randn(len(dts)), index=dts)\n",
    "    rv.iloc[[0, 2, 5]] = np.nan\n",
    "    return rv\n",
    "\n",
    "ts4 = make_series_4()\n",
    "ts4"
   ]
  },
  {
   "cell_type": "markdown",
   "metadata": {},
   "source": [
    "#### Filling Data Forward"
   ]
  },
  {
   "cell_type": "code",
   "execution_count": 17,
   "metadata": {},
   "outputs": [
    {
     "data": {
      "text/plain": [
       "2000-01-02         NaN\n",
       "2000-01-03    1.301518\n",
       "2000-01-04    1.301518\n",
       "2000-01-05   -1.452010\n",
       "2000-01-06    1.001597\n",
       "2000-01-07    1.001597\n",
       "Freq: D, dtype: float64"
      ]
     },
     "execution_count": 17,
     "metadata": {},
     "output_type": "execute_result"
    }
   ],
   "source": [
    "ts4.ffill()"
   ]
  },
  {
   "cell_type": "markdown",
   "metadata": {},
   "source": [
    "#### Filling Data Backwards"
   ]
  },
  {
   "cell_type": "code",
   "execution_count": 18,
   "metadata": {},
   "outputs": [
    {
     "data": {
      "text/plain": [
       "2000-01-02    1.301518\n",
       "2000-01-03    1.301518\n",
       "2000-01-04   -1.452010\n",
       "2000-01-05   -1.452010\n",
       "2000-01-06    1.001597\n",
       "2000-01-07         NaN\n",
       "Freq: D, dtype: float64"
      ]
     },
     "execution_count": 18,
     "metadata": {},
     "output_type": "execute_result"
    }
   ],
   "source": [
    "ts4.bfill()"
   ]
  },
  {
   "cell_type": "markdown",
   "metadata": {},
   "source": [
    "#### Filling with limits"
   ]
  },
  {
   "cell_type": "code",
   "execution_count": 19,
   "metadata": {},
   "outputs": [
    {
     "data": {
      "text/plain": [
       "2000-01-01    1.33151\n",
       "2000-01-02        NaN\n",
       "2000-01-03        NaN\n",
       "2000-01-04        NaN\n",
       "2000-01-05        NaN\n",
       "Freq: D, dtype: float64"
      ]
     },
     "execution_count": 19,
     "metadata": {},
     "output_type": "execute_result"
    }
   ],
   "source": [
    "def make_series_5():\n",
    "    dts = pd.date_range('2000-01-01', '2000-01-05', freq='D')\n",
    "    rv = pd.Series(np.random.randn(len(dts)), index=dts)\n",
    "    rv[1:] = np.nan\n",
    "    return rv\n",
    "\n",
    "ts5 = make_series_5()\n",
    "ts5"
   ]
  },
  {
   "cell_type": "code",
   "execution_count": 20,
   "metadata": {},
   "outputs": [
    {
     "data": {
      "text/plain": [
       "2000-01-01    1.33151\n",
       "2000-01-02    1.33151\n",
       "2000-01-03    1.33151\n",
       "2000-01-04        NaN\n",
       "2000-01-05        NaN\n",
       "Freq: D, dtype: float64"
      ]
     },
     "execution_count": 20,
     "metadata": {},
     "output_type": "execute_result"
    }
   ],
   "source": [
    "ts5.ffill(limit=2)"
   ]
  },
  {
   "cell_type": "markdown",
   "metadata": {},
   "source": [
    "### Aligning Dates\n",
    "#### Sample Data\n",
    "Create a monthly and daily series."
   ]
  },
  {
   "cell_type": "code",
   "execution_count": 21,
   "metadata": {},
   "outputs": [],
   "source": [
    "dts_m = pd.bdate_range('2000-01', periods=2, freq='MS')\n",
    "t_bill = pd.Series([0.012, 0.023], index=dts_m)\n",
    "\n",
    "dts_d = pd.bdate_range('2000-01-01', periods=8, freq='W')\n",
    "sp5_weekly = random_series(dts_d)"
   ]
  },
  {
   "cell_type": "code",
   "execution_count": 22,
   "metadata": {},
   "outputs": [
    {
     "data": {
      "text/plain": [
       "2000-01-02   -1.352033\n",
       "2000-01-09   -0.185830\n",
       "2000-01-16   -1.156032\n",
       "2000-01-23   -0.608064\n",
       "2000-01-30   -1.120766\n",
       "2000-02-06   -2.069586\n",
       "2000-02-13   -0.499210\n",
       "2000-02-20   -0.201274\n",
       "Freq: W-SUN, dtype: float64"
      ]
     },
     "execution_count": 22,
     "metadata": {},
     "output_type": "execute_result"
    }
   ],
   "source": [
    "sp5_weekly"
   ]
  },
  {
   "cell_type": "code",
   "execution_count": 23,
   "metadata": {},
   "outputs": [
    {
     "data": {
      "text/plain": [
       "2000-01-01    0.012\n",
       "2000-02-01    0.023\n",
       "Freq: MS, dtype: float64"
      ]
     },
     "execution_count": 23,
     "metadata": {},
     "output_type": "execute_result"
    }
   ],
   "source": [
    "t_bill"
   ]
  },
  {
   "cell_type": "markdown",
   "metadata": {},
   "source": [
    "#### Using reindex"
   ]
  },
  {
   "cell_type": "code",
   "execution_count": 24,
   "metadata": {},
   "outputs": [
    {
     "data": {
      "text/plain": [
       "2000-01-02   NaN\n",
       "2000-01-09   NaN\n",
       "2000-01-16   NaN\n",
       "2000-01-23   NaN\n",
       "2000-01-30   NaN\n",
       "2000-02-06   NaN\n",
       "2000-02-13   NaN\n",
       "2000-02-20   NaN\n",
       "Freq: W-SUN, dtype: float64"
      ]
     },
     "execution_count": 24,
     "metadata": {},
     "output_type": "execute_result"
    }
   ],
   "source": [
    "t_bill.reindex(sp5_weekly.index)"
   ]
  },
  {
   "cell_type": "markdown",
   "metadata": {},
   "source": [
    "#### Reindex and fill forward"
   ]
  },
  {
   "cell_type": "code",
   "execution_count": 25,
   "metadata": {},
   "outputs": [
    {
     "data": {
      "text/plain": [
       "2000-01-02    0.012\n",
       "2000-01-09    0.012\n",
       "2000-01-16    0.012\n",
       "2000-01-23    0.012\n",
       "2000-01-30    0.012\n",
       "2000-02-06    0.023\n",
       "2000-02-13    0.023\n",
       "2000-02-20    0.023\n",
       "Freq: W-SUN, dtype: float64"
      ]
     },
     "execution_count": 25,
     "metadata": {},
     "output_type": "execute_result"
    }
   ],
   "source": [
    "t_bill.reindex(sp5_weekly.index, method='ffill')"
   ]
  },
  {
   "cell_type": "markdown",
   "metadata": {},
   "source": [
    "### Rolling Calculuations"
   ]
  },
  {
   "cell_type": "code",
   "execution_count": 26,
   "metadata": {},
   "outputs": [],
   "source": [
    "roll = sp5_weekly.rolling(2)"
   ]
  },
  {
   "cell_type": "code",
   "execution_count": 27,
   "metadata": {},
   "outputs": [
    {
     "data": {
      "text/plain": [
       "Rolling [window=2,center=False,axis=0]"
      ]
     },
     "execution_count": 27,
     "metadata": {},
     "output_type": "execute_result"
    }
   ],
   "source": [
    "roll"
   ]
  },
  {
   "cell_type": "code",
   "execution_count": 28,
   "metadata": {},
   "outputs": [
    {
     "data": {
      "text/plain": [
       "2000-01-02         NaN\n",
       "2000-01-09   -0.768931\n",
       "2000-01-16   -0.670931\n",
       "2000-01-23   -0.882048\n",
       "2000-01-30   -0.864415\n",
       "2000-02-06   -1.595176\n",
       "2000-02-13   -1.284398\n",
       "2000-02-20   -0.350242\n",
       "Freq: W-SUN, dtype: float64"
      ]
     },
     "execution_count": 28,
     "metadata": {},
     "output_type": "execute_result"
    }
   ],
   "source": [
    "roll.mean()"
   ]
  },
  {
   "cell_type": "code",
   "execution_count": 29,
   "metadata": {},
   "outputs": [],
   "source": [
    "import pandas as pd"
   ]
  },
  {
   "cell_type": "code",
   "execution_count": 30,
   "metadata": {},
   "outputs": [],
   "source": [
    "dfts=pd.DataFrame(ts,columns=['Value'])"
   ]
  },
  {
   "cell_type": "code",
   "execution_count": 31,
   "metadata": {},
   "outputs": [],
   "source": [
    "dfts=dfts.reset_index()\n",
    "dfts=dfts.rename(columns={'index':'Date'})"
   ]
  },
  {
   "cell_type": "code",
   "execution_count": 32,
   "metadata": {},
   "outputs": [
    {
     "data": {
      "text/html": [
       "<div>\n",
       "<style scoped>\n",
       "    .dataframe tbody tr th:only-of-type {\n",
       "        vertical-align: middle;\n",
       "    }\n",
       "\n",
       "    .dataframe tbody tr th {\n",
       "        vertical-align: top;\n",
       "    }\n",
       "\n",
       "    .dataframe thead th {\n",
       "        text-align: right;\n",
       "    }\n",
       "</style>\n",
       "<table border=\"1\" class=\"dataframe\">\n",
       "  <thead>\n",
       "    <tr style=\"text-align: right;\">\n",
       "      <th></th>\n",
       "      <th>Date</th>\n",
       "      <th>Value</th>\n",
       "    </tr>\n",
       "  </thead>\n",
       "  <tbody>\n",
       "    <tr>\n",
       "      <th>0</th>\n",
       "      <td>2000-01-03</td>\n",
       "      <td>-0.011498</td>\n",
       "    </tr>\n",
       "    <tr>\n",
       "      <th>1</th>\n",
       "      <td>2000-01-04</td>\n",
       "      <td>-0.085123</td>\n",
       "    </tr>\n",
       "    <tr>\n",
       "      <th>2</th>\n",
       "      <td>2000-01-05</td>\n",
       "      <td>0.075910</td>\n",
       "    </tr>\n",
       "    <tr>\n",
       "      <th>3</th>\n",
       "      <td>2000-01-06</td>\n",
       "      <td>-1.649279</td>\n",
       "    </tr>\n",
       "    <tr>\n",
       "      <th>4</th>\n",
       "      <td>2000-01-07</td>\n",
       "      <td>-0.751812</td>\n",
       "    </tr>\n",
       "    <tr>\n",
       "      <th>...</th>\n",
       "      <td>...</td>\n",
       "      <td>...</td>\n",
       "    </tr>\n",
       "    <tr>\n",
       "      <th>516</th>\n",
       "      <td>2001-12-25</td>\n",
       "      <td>1.583837</td>\n",
       "    </tr>\n",
       "    <tr>\n",
       "      <th>517</th>\n",
       "      <td>2001-12-26</td>\n",
       "      <td>-0.362809</td>\n",
       "    </tr>\n",
       "    <tr>\n",
       "      <th>518</th>\n",
       "      <td>2001-12-27</td>\n",
       "      <td>0.500747</td>\n",
       "    </tr>\n",
       "    <tr>\n",
       "      <th>519</th>\n",
       "      <td>2001-12-28</td>\n",
       "      <td>-1.402560</td>\n",
       "    </tr>\n",
       "    <tr>\n",
       "      <th>520</th>\n",
       "      <td>2001-12-31</td>\n",
       "      <td>1.589578</td>\n",
       "    </tr>\n",
       "  </tbody>\n",
       "</table>\n",
       "<p>521 rows × 2 columns</p>\n",
       "</div>"
      ],
      "text/plain": [
       "          Date     Value\n",
       "0   2000-01-03 -0.011498\n",
       "1   2000-01-04 -0.085123\n",
       "2   2000-01-05  0.075910\n",
       "3   2000-01-06 -1.649279\n",
       "4   2000-01-07 -0.751812\n",
       "..         ...       ...\n",
       "516 2001-12-25  1.583837\n",
       "517 2001-12-26 -0.362809\n",
       "518 2001-12-27  0.500747\n",
       "519 2001-12-28 -1.402560\n",
       "520 2001-12-31  1.589578\n",
       "\n",
       "[521 rows x 2 columns]"
      ]
     },
     "execution_count": 32,
     "metadata": {},
     "output_type": "execute_result"
    }
   ],
   "source": [
    "dfts"
   ]
  },
  {
   "cell_type": "markdown",
   "metadata": {},
   "source": [
    "### Auto-Regressive Moving Average (ARMA)\n",
    "\n"
   ]
  },
  {
   "cell_type": "code",
   "execution_count": 33,
   "metadata": {},
   "outputs": [
    {
     "data": {
      "image/png": "[encoded data removed]",
      "text/plain": [
       "<Figure size 432x288 with 1 Axes>"
      ]
     },
     "metadata": {
      "needs_background": "light"
     },
     "output_type": "display_data"
    }
   ],
   "source": [
    "import matplotlib.pyplot as plt\n",
    "\n",
    "# a scatter plot comparing num_children and num_pets\n",
    "dfts.plot(kind='scatter',x='Date',y='Value',color='red')\n",
    "plt.show()"
   ]
  },
  {
   "cell_type": "markdown",
   "metadata": {},
   "source": [
    "#### Auto Regression\n",
    "\n",
    "Split the data into train and test at 8:2 ratio of total data. \n",
    "In case of time series, sequence of data points is very essential so one should keep in mind not tolose the order during splitting of data.\n"
   ]
  },
  {
   "cell_type": "code",
   "execution_count": 34,
   "metadata": {},
   "outputs": [],
   "source": [
    "split=len(dfts)-int(0.2*len(dfts))"
   ]
  },
  {
   "cell_type": "code",
   "execution_count": 35,
   "metadata": {},
   "outputs": [],
   "source": [
    "train,test=dfts['Value'][0:split],dfts['Value'][split:]"
   ]
  },
  {
   "cell_type": "code",
   "execution_count": 36,
   "metadata": {},
   "outputs": [
    {
     "data": {
      "image/png": "[encoded data removed]",
      "text/plain": [
       "<Figure size 432x288 with 1 Axes>"
      ]
     },
     "metadata": {
      "needs_background": "light"
     },
     "output_type": "display_data"
    }
   ],
   "source": [
    "from statsmodels.graphics.tsaplots import plot_acf\n",
    "plot_acf(train,lags=100)\n",
    "plt.show()"
   ]
  },
  {
   "cell_type": "markdown",
   "metadata": {},
   "source": [
    "All the lag values lying outside the shaded blue region are assumed to have a correlation. \n",
    "\n",
    "#### Moving Average"
   ]
  },
  {
   "cell_type": "code",
   "execution_count": 37,
   "metadata": {},
   "outputs": [
    {
     "data": {
      "image/png": "[encoded data removed]",
      "text/plain": [
       "<Figure size 432x288 with 1 Axes>"
      ]
     },
     "metadata": {
      "needs_background": "light"
     },
     "output_type": "display_data"
    }
   ],
   "source": [
    "from statsmodels.graphics.tsaplots import plot_pacf\n",
    "plot_pacf(train,lags=100)\n",
    "plt.show()"
   ]
  },
  {
   "cell_type": "markdown",
   "metadata": {},
   "source": [
    "Various methods to find the stationarity of a time series are looking for seasonality or trend in the plot of time series, checking the difference in mean and variance for various time periods, Augmented Dickey-Fuller (ADF) test, KPSS test, Hurst’s exponent etc."
   ]
  },
  {
   "cell_type": "code",
   "execution_count": 38,
   "metadata": {},
   "outputs": [
    {
     "name": "stdout",
     "output_type": "stream",
     "text": [
      "ADF Statistic: -19.080404\n",
      "p-value: 0.000000\n",
      "Critical Values:\n"
     ]
    },
    {
     "data": {
      "text/plain": [
       "{'1%': -3.4461675720270404,\n",
       " '5%': -2.8685128587855955,\n",
       " '10%': -2.5704843086630915}"
      ]
     },
     "execution_count": 38,
     "metadata": {},
     "output_type": "execute_result"
    }
   ],
   "source": [
    "from statsmodels.tsa.stattools import adfuller\n",
    "\n",
    "result = adfuller(train)\n",
    "print('ADF Statistic: %f' % result[0])  \n",
    "print('p-value: %f' % result[1])  \n",
    "print('Critical Values:')  \n",
    "result[4]"
   ]
  },
  {
   "cell_type": "markdown",
   "metadata": {},
   "source": [
    "- The ADF Statistic with the critical values, a lower critical value tells us the series is most likely non-stationary. \n",
    "- A p-value greater than 0.05 also suggests that the time series is non-stationary. "
   ]
  },
  {
   "cell_type": "code",
   "execution_count": null,
   "metadata": {},
   "outputs": [],
   "source": [
    "pip install hurst"
   ]
  },
  {
   "cell_type": "code",
   "execution_count": 40,
   "metadata": {},
   "outputs": [
    {
     "name": "stdout",
     "output_type": "stream",
     "text": [
      "0.15356437078604027\n",
      "1.7732804737072434\n"
     ]
    }
   ],
   "source": [
    "from hurst import compute_Hc\n",
    "\n",
    "H, c, data=compute_Hc(train)\n",
    "print(H)\n",
    "print(c)"
   ]
  },
  {
   "cell_type": "markdown",
   "metadata": {},
   "source": [
    "We can also confirm the statioanry of time series using Hurst exponent. "
   ]
  },
  {
   "cell_type": "markdown",
   "metadata": {},
   "source": [
    "The value of H<0.5 shows anti-persistent behavior, and H>0.5 shows persistent behavior or a trending series. The value of H<0.5, confriming that the series is stationary. \n",
    "\n",
    "For non-stationary time series, we set \"d\" parameter as 1. Also, the value of the auto-regressive trend parameter \"p\" and the moving average trend parameter \"q\" is calculated on the stationary time series by plotting ACP and PACP after differening the time series. \n",
    "\n",
    "ARIMA model, which is characterized by 3 parameters, (p,d,q). "
   ]
  },
  {
   "cell_type": "code",
   "execution_count": 41,
   "metadata": {},
   "outputs": [],
   "source": [
    "from statsmodels.tsa.arima_model import ARIMA  "
   ]
  },
  {
   "cell_type": "code",
   "execution_count": 42,
   "metadata": {},
   "outputs": [
    {
     "name": "stderr",
     "output_type": "stream",
     "text": [
      "/opt/anaconda3/lib/python3.7/site-packages/statsmodels/base/model.py:548: HessianInversionWarning: Inverting hessian failed, no bse or cov_params available\n",
      "  'available', HessianInversionWarning)\n",
      "/opt/anaconda3/lib/python3.7/site-packages/statsmodels/base/model.py:568: ConvergenceWarning: Maximum Likelihood optimization failed to converge. Check mle_retvals\n",
      "  \"Check mle_retvals\", ConvergenceWarning)\n"
     ]
    }
   ],
   "source": [
    "model = ARIMA(train.values, order=(10, 0, 10))\n",
    "model_fit=model.fit(disp=False)"
   ]
  },
  {
   "cell_type": "code",
   "execution_count": 43,
   "metadata": {},
   "outputs": [],
   "source": [
    "predictions=model_fit.predict(len(test))\n",
    "test=pd.DataFrame(test)\n",
    "test['predictions']=predictions[0:len(test)]"
   ]
  },
  {
   "cell_type": "code",
   "execution_count": 44,
   "metadata": {},
   "outputs": [
    {
     "data": {
      "image/png": "[encoded data removed]",
      "text/plain": [
       "<Figure size 432x288 with 1 Axes>"
      ]
     },
     "metadata": {
      "needs_background": "light"
     },
     "output_type": "display_data"
    }
   ],
   "source": [
    "plt.plot(dfts['Value'])\n",
    "plt.plot(test.predictions)\n",
    "plt.show()"
   ]
  },
  {
   "cell_type": "code",
   "execution_count": 45,
   "metadata": {},
   "outputs": [
    {
     "name": "stdout",
     "output_type": "stream",
     "text": [
      "Test RMSE for ARIMA: 1.0416830108504689\n"
     ]
    }
   ],
   "source": [
    "from sklearn import metrics\n",
    "from math import sqrt\n",
    "error=sqrt(metrics.mean_squared_error(test.Value,test.predictions[0:len(test)]))\n",
    "print(\"Test RMSE for ARIMA:\",error)"
   ]
  },
  {
   "cell_type": "code",
   "execution_count": 50,
   "metadata": {},
   "outputs": [],
   "source": [
    "model = ARIMA(train.values, order=(8, 0, 3))\n",
    "model_fit=model.fit(disp=False)"
   ]
  },
  {
   "cell_type": "code",
   "execution_count": 52,
   "metadata": {},
   "outputs": [],
   "source": [
    "predictions=model_fit.predict(len(test))\n",
    "test=pd.DataFrame(test)\n",
    "test['predictions']=predictions[0:len(test)]"
   ]
  },
  {
   "cell_type": "code",
   "execution_count": 53,
   "metadata": {},
   "outputs": [
    {
     "data": {
      "image/png": "[encoded data removed]",
      "text/plain": [
       "<Figure size 432x288 with 1 Axes>"
      ]
     },
     "metadata": {
      "needs_background": "light"
     },
     "output_type": "display_data"
    }
   ],
   "source": [
    "plt.plot(dfts['Value'])\n",
    "plt.plot(test.predictions)\n",
    "plt.show()"
   ]
  },
  {
   "cell_type": "code",
   "execution_count": 54,
   "metadata": {},
   "outputs": [
    {
     "name": "stdout",
     "output_type": "stream",
     "text": [
      "Test RMSE for ARIMA: 1.0561518666746892\n"
     ]
    }
   ],
   "source": [
    "from sklearn import metrics\n",
    "from math import sqrt\n",
    "error=sqrt(metrics.mean_squared_error(test.Value,test.predictions[0:len(test)]))\n",
    "print(\"Test RMSE for ARIMA:\",error)"
   ]
  },
  {
   "cell_type": "markdown",
   "metadata": {},
   "source": [
    "### Tensor Flow\n",
    "\n",
    "Check your machine and install. \n",
    "\n",
    "The rest part of finishing the classification using CNN is the assignment. Please read the assignment description. "
   ]
  },
  {
   "cell_type": "code",
   "execution_count": null,
   "metadata": {},
   "outputs": [],
   "source": [
    "pip install --upgrade tensorflow\n",
    "pip install tensorflow-datasets"
   ]
  },
  {
   "cell_type": "code",
   "execution_count": 55,
   "metadata": {},
   "outputs": [],
   "source": [
    "import argparse\n",
    "\n",
    "import tensorflow as tf\n",
    "#from tensorflow.examples.tutorials.mnist import input_data\n",
    "\n",
    "import tensorflow_datasets\n",
    "mnist = tensorflow_datasets.load('mnist')"
   ]
  },
  {
   "cell_type": "code",
   "execution_count": 56,
   "metadata": {},
   "outputs": [],
   "source": [
    "def build_arg_parser():\n",
    "    parser = argparse.ArgumentParser(description='Build a CNN classifier \\\n",
    "            using MNIST data')\n",
    "    parser.add_argument('--input-dir', dest='input_dir', type=str,\n",
    "            default='./mnist_data', help='Directory for storing data')\n",
    "    return parser\n",
    "\n",
    "def get_weights(shape):\n",
    "    data = tf.truncated_normal(shape, stddev=0.1)\n",
    "    return tf.Variable(data)\n",
    "\n",
    "def get_biases(shape):\n",
    "    data = tf.constant(0.1, shape=shape)\n",
    "    return tf.Variable(data)\n",
    "\n",
    "def create_layer(shape):\n",
    "    # Get the weights and biases\n",
    "    W = get_weights(shape)\n",
    "    b = get_biases([shape[-1]])\n",
    "\n",
    "    return W, b\n",
    "\n",
    "def convolution_2d(x, W):\n",
    "    return tf.nn.conv2d(x, W, strides=[1, 1, 1, 1],\n",
    "            padding='SAME')\n",
    "\n",
    "def max_pooling(x):\n",
    "    return tf.nn.max_pool(x, ksize=[1, 2, 2, 1],\n",
    "            strides=[1, 2, 2, 1], padding='SAME')\n"
   ]
  },
  {
   "cell_type": "markdown",
   "metadata": {},
   "source": []
  }
 ],
 "metadata": {
  "kernelspec": {
   "display_name": "Python 3",
   "language": "python",
   "name": "python3"
  },
  "language_info": {
   "codemirror_mode": {
    "name": "ipython",
    "version": 3
   },
   "file_extension": ".py",
   "mimetype": "text/x-python",
   "name": "python",
   "nbconvert_exporter": "python",
   "pygments_lexer": "ipython3",
   "version": "3.7.6"
  }
 },
 "nbformat": 4,
 "nbformat_minor": 4
}
